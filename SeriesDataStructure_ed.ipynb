{
  "nbformat": 4,
  "nbformat_minor": 0,
  "metadata": {
    "colab": {
      "provenance": []
    },
    "kernelspec": {
      "name": "python3",
      "display_name": "Python 3"
    },
    "language_info": {
      "name": "python"
    }
  },
  "cells": [
    {
      "cell_type": "markdown",
      "source": [
        "# Pandas Introduction\n",
        "\n",
        "This week we're going to deepen our investigation to how Python can be used to manipulate, clean, and query data by looking at the Pandas data tool kit. Pandas was created by Wes McKinney in 2008, and is an open source project under a very permissive license. As an open source project it's got a strong community, with over one hundred software developers all committing code to help make it better. Before pandas existed we had only a hodge podge of tools to use, such as numpy, the python core libraries, and some python statistical tools. But pandas has quickly become the defacto library for representing relational data for data scientists.\n",
        "\n",
        "I want to take a moment here to introduce the question answersing site Stack Overflow. Stack Overflow is used broadly within the software development community to post questions about programming, programming languages, and programming toolkits. What's special about Stack Overflow is that it's heavily curated by the community. And the Pandas community, in particular, uses it as their number one resource for helping new members. It's quite possible if you post a question to Stack Overflow, and tag it as being Pandas and Python related, that a core Pandas developer will actually respond to your question. In addition to posting questions, Stack Overflow is a great place to go to see what issues people are having and how they can be solved. You can learn a lot from browsing Stacks at Stack Overflow and with pandas, this is where the developer community is.\n",
        "\n",
        "A second resource you might want to consider are books. In 2012 Wes McKinney wrote the definitive Pandas reference book called Python for Data Analysis and published by O'Reilly, and it's recently been update to a second edition. I consider this the go to book for understanding how Pandas works. I also appreciate the more brief book \"Learning the Pandas Library\" by Matt Harrison. It's not a comprehensive book on data analysis and statistics. But if you just want to learn the basics of Pandas and want to do so quickly, I think it's a well laid out volume and it can be had for a good price.\n",
        "\n",
        "The field of data science is rapidly changing. There's new toolkits and method being created everyday. It can be tough to stay on top of it all. Marco Rodriguez and Tim Golden maintain a wonderful blog aggregator site called Planet Python. You can visit the webpage at planetpython.org, subscribe with an RSS reader, or get the latest articles from the @PlanetPython Twitter feed. There's lots of regular Python data science contributors, and I highly recommend it if you follow RSS feeds.\n",
        "\n",
        "Here's my last plug on how to deepen your learning. Kyle Polich runs an excellent podcast called Data Skeptic. It isn't Python based per se, but it's well produced and it has a wonderful mixture of interviews with experts in the field as well as short educational lessons. Much of the word he describes is specific to machine learning methods. But if that's something you are planning to explore through this specialization this course is in, I would really encourage you to subscribe to his podcast.\n",
        "\n",
        "That's it for a little bit of an introduction to this week of the course. Next we're going to dive right into Pandas library and talk about the series data structure."
      ],
      "metadata": {
        "id": "z0pbw7dTTdPq"
      }
    },
    {
      "cell_type": "markdown",
      "source": [
        "# The `Series` Datastructure\n",
        "\n",
        "In this lecture we're going to explore the pandas Series structure. By the end of this lecture you should be familiar with how to store and manipulate single dimensional indexed data in the Series object."
      ],
      "metadata": {
        "id": "VItvM_-BUEqZ"
      }
    },
    {
      "cell_type": "markdown",
      "source": [
        "The series is one of the core data structures in pandas. You think of it a cross between a list and a dictionary. The items are all stored in an order and there's labels with which you can retrieve them. An easy way to visualize this is two columns of data. The first is the special index, a lot like keys in a dictionary. While the second is your actual data. It's important to note that the data column has a label of its own and can be retrieved using the .name attribute. This is different than with dictionaries and is useful when it comes to merging multiple columns of data. And we'll talk about that later on in the course."
      ],
      "metadata": {
        "id": "zzO4KgWHUGpf"
      }
    },
    {
      "cell_type": "code",
      "execution_count": 1,
      "metadata": {
        "id": "AIfJO4BuTV7O"
      },
      "outputs": [],
      "source": [
        "# Let's import pandas to get started\n",
        "import pandas as pd"
      ]
    },
    {
      "cell_type": "code",
      "source": [
        "# As you might expect, you can create a series by passing in a list of values.\n",
        "# When you do this, Pandas automatically assigns an index starting with zero and\n",
        "# sets the name of the series to None. Let's work on an example of this.\n",
        "\n",
        "# One of the easiest ways to create a series is to use an array-like object, like\n",
        "# a list.\n",
        "\n",
        "# Here I'll make a list of the three of students, Alice, Jack, and Molly, all as strings\n",
        "students = [\"Alice\", \"Jack\", \"Molly\"]\n",
        "\n",
        "# Now we just call the Series function in pandas and pass in the students\n",
        "pd.Series(students)"
      ],
      "metadata": {
        "colab": {
          "base_uri": "https://localhost:8080/"
        },
        "id": "TxDpKOmAUEQW",
        "outputId": "ebe401d5-6f75-40ba-a365-871968176908"
      },
      "execution_count": 3,
      "outputs": [
        {
          "output_type": "execute_result",
          "data": {
            "text/plain": [
              "0    Alice\n",
              "1     Jack\n",
              "2    Molly\n",
              "dtype: object"
            ]
          },
          "metadata": {},
          "execution_count": 3
        }
      ]
    },
    {
      "cell_type": "code",
      "source": [
        "# The result is a Series object which is nicely rendered to the screen. We see here that\n",
        "# the pandas has automatically identified the type of data in this Series as \"object\" and\n",
        "# set the dytpe parameter as appropriate. We see that the values are indexed with integers,\n",
        "# starting at zero"
      ],
      "metadata": {
        "id": "ZYtWTAdcTd8X"
      },
      "execution_count": 4,
      "outputs": []
    },
    {
      "cell_type": "code",
      "source": [
        "# We don't have to use strings. If we passed in a list of whole numbers, for instance,\n",
        "# we could see that panda sets the type to int64. Underneath panda stores series values in a\n",
        "# typed array using the Numpy library. This offers significant speedup when processing data\n",
        "# versus traditional python lists.\n",
        "\n",
        "# Let's create a little list of numbers\n",
        "numbers = [1, 2, 3]\n",
        "# And turn that into a serie\n",
        "pd.Series(numbers)"
      ],
      "metadata": {
        "colab": {
          "base_uri": "https://localhost:8080/"
        },
        "id": "97Wk2UWVW1fW",
        "outputId": "716dd2dc-ec7b-45c3-ae8c-7d5536d19145"
      },
      "execution_count": 5,
      "outputs": [
        {
          "output_type": "execute_result",
          "data": {
            "text/plain": [
              "0    1\n",
              "1    2\n",
              "2    3\n",
              "dtype: int64"
            ]
          },
          "metadata": {},
          "execution_count": 5
        }
      ]
    },
    {
      "cell_type": "code",
      "source": [
        "# And we see on my architecture that the result is a dtype of int64 objects"
      ],
      "metadata": {
        "id": "nqSPloHjW1ir"
      },
      "execution_count": 6,
      "outputs": []
    },
    {
      "cell_type": "code",
      "source": [
        "# There's some other typing details that exist for performance that are important to know.\n",
        "# The most important is how Numpy and thus pandas handle missing data.\n",
        "\n",
        "# In Python, we have the none type to indicate a lack of data. But what do we do if we want\n",
        "# to have a typed list like we do in the series object?\n",
        "\n",
        "# Underneath, pandas does some type conversion. If we create a list of strings and we have\n",
        "# one element, a None type, pandas inserts it as a None and uses the type object for the\n",
        "# underlying array.\n",
        "\n",
        "# Let's recreate our list of students, but leave the last one as a None\n",
        "students = [\"Alice\", \"Jack\", None]\n",
        "# And let's convert this to a series\n",
        "pd.Series(students)"
      ],
      "metadata": {
        "colab": {
          "base_uri": "https://localhost:8080/"
        },
        "id": "ZZA_vcVVW1li",
        "outputId": "d64294a9-0743-4c2e-aa5b-5df4f420d0d7"
      },
      "execution_count": 7,
      "outputs": [
        {
          "output_type": "execute_result",
          "data": {
            "text/plain": [
              "0    Alice\n",
              "1     Jack\n",
              "2     None\n",
              "dtype: object"
            ]
          },
          "metadata": {},
          "execution_count": 7
        }
      ]
    },
    {
      "cell_type": "code",
      "source": [
        "# However, if we create a list of numbers, integers or floats, and put in the None type,\n",
        "# pandas automatically converts this to a special floating point value designated as NaN,\n",
        "# which stands for \"Not a Number\".\n",
        "\n",
        "# So let's create a list with a None value in it\n",
        "numbers = [1, 2, None]\n",
        "# And turn that into a series\n",
        "pd.Series(numbers)"
      ],
      "metadata": {
        "colab": {
          "base_uri": "https://localhost:8080/"
        },
        "id": "rbV1a_uGW1oZ",
        "outputId": "093a1150-c809-4bfc-c08e-919bf96ce3e5"
      },
      "execution_count": 8,
      "outputs": [
        {
          "output_type": "execute_result",
          "data": {
            "text/plain": [
              "0    1.0\n",
              "1    2.0\n",
              "2    NaN\n",
              "dtype: float64"
            ]
          },
          "metadata": {},
          "execution_count": 8
        }
      ]
    },
    {
      "cell_type": "code",
      "source": [
        "# You'll notice a couple of things. First, NaN is a different value. Second, pandas\n",
        "# set the dytpe of this series to floating point numbers instead of object or ints. That's\n",
        "# maybe a bit of a surprise - why not just leave this as an integer? Underneath, pandas\n",
        "# represents NaN as a floating point number, and because integers can be typecast to\n",
        "# floats, pandas went and converted our integers to floats. So when you're wondering why the\n",
        "# list of integers you put into a Series is not floats, it's probably because there is some\n",
        "# missing data."
      ],
      "metadata": {
        "id": "mPJyfoMKW1qv"
      },
      "execution_count": 9,
      "outputs": []
    },
    {
      "cell_type": "code",
      "source": [
        "# For those who might not have done scientific computing in Python before, it is important\n",
        "# to stress that None and NaN might be being used by the data scientist in the same way, to\n",
        "# denote missing data, but that underneath these are not represented by pandas in the same\n",
        "# way.\n",
        "\n",
        "# NaN is *NOT* equivilent to None and when we try the equality test, the result is False.\n",
        "\n",
        "# Lets bring in numpy which allows us to generate an NaN value\n",
        "import numpy as np\n",
        "# And lets compare it to None\n",
        "np.nan == None"
      ],
      "metadata": {
        "colab": {
          "base_uri": "https://localhost:8080/"
        },
        "id": "M8Inj4dTW1tn",
        "outputId": "ca014ddc-d72b-4b20-95b3-b5ee053e8bdc"
      },
      "execution_count": 10,
      "outputs": [
        {
          "output_type": "execute_result",
          "data": {
            "text/plain": [
              "False"
            ]
          },
          "metadata": {},
          "execution_count": 10
        }
      ]
    },
    {
      "cell_type": "code",
      "source": [
        "# It turns out that you actually can't do an equality test of NAN to itself. When you do,\n",
        "# the answer is always False.\n",
        "\n",
        "np.nan == np.nan"
      ],
      "metadata": {
        "colab": {
          "base_uri": "https://localhost:8080/"
        },
        "id": "7xJyg7exW1v8",
        "outputId": "af8a7e1b-051d-45ca-9035-ab0c33b4e5fe"
      },
      "execution_count": 11,
      "outputs": [
        {
          "output_type": "execute_result",
          "data": {
            "text/plain": [
              "False"
            ]
          },
          "metadata": {},
          "execution_count": 11
        }
      ]
    },
    {
      "cell_type": "code",
      "source": [
        "# Instead, you need to use special functions to test for the presence of not a number,\n",
        "# such as the Numpy library isnan().\n",
        "\n",
        "np.isnan(np.nan)"
      ],
      "metadata": {
        "colab": {
          "base_uri": "https://localhost:8080/"
        },
        "id": "ANBAr0KlaWM1",
        "outputId": "5bcc0100-3bc0-4520-eceb-c84af4c8c3f9"
      },
      "execution_count": 12,
      "outputs": [
        {
          "output_type": "execute_result",
          "data": {
            "text/plain": [
              "True"
            ]
          },
          "metadata": {},
          "execution_count": 12
        }
      ]
    },
    {
      "cell_type": "code",
      "source": [
        "# So keep in mind when you see NaN, it's meaning is similar to None, but it's a\n",
        "# numeric value and treated differently for efficiency reasons."
      ],
      "metadata": {
        "id": "0oFzyZlraWP9"
      },
      "execution_count": 13,
      "outputs": []
    },
    {
      "cell_type": "code",
      "source": [
        "# Let's talk more about how pandas' Series can be created. While my list might be a common\n",
        "# way to create some play data, often you have label data that you want to manipulate.\n",
        "# A series can be created directly from dictionary data. If you do this, the index is\n",
        "# automatically assigned to the keys of the dictionary that you provided and not just\n",
        "# incrementing integers.\n",
        "\n",
        "# Here's an example using some data of students and their classes.\n",
        "students_scores = {\n",
        "    \"Alice\": \"Physics\",\n",
        "    \"Jack\": \"Chemistry\",\n",
        "    \"Molly\": \"English\" }\n",
        "\n",
        "s = pd.Series(students_scores)\n",
        "s"
      ],
      "metadata": {
        "colab": {
          "base_uri": "https://localhost:8080/"
        },
        "id": "FEPnFnXYaWTF",
        "outputId": "f44b5727-4779-46ee-ff7e-325df074166e"
      },
      "execution_count": 15,
      "outputs": [
        {
          "output_type": "execute_result",
          "data": {
            "text/plain": [
              "Alice      Physics\n",
              "Jack     Chemistry\n",
              "Molly      English\n",
              "dtype: object"
            ]
          },
          "metadata": {},
          "execution_count": 15
        }
      ]
    },
    {
      "cell_type": "code",
      "source": [
        "# We see that, since it was string data, pandas set the data type of the series to \"object\".\n",
        "# We see that the index, the first column, is also a list of strings."
      ],
      "metadata": {
        "id": "qSfXoh6naWV8"
      },
      "execution_count": 16,
      "outputs": []
    },
    {
      "cell_type": "code",
      "source": [
        "# Once the series has been created, we can get the index object using the index attribute.\n",
        "\n",
        "s.index"
      ],
      "metadata": {
        "colab": {
          "base_uri": "https://localhost:8080/"
        },
        "id": "JWPEA7okaWZV",
        "outputId": "6cb93c01-452e-4568-c58f-16b456795267"
      },
      "execution_count": 17,
      "outputs": [
        {
          "output_type": "execute_result",
          "data": {
            "text/plain": [
              "Index(['Alice', 'Jack', 'Molly'], dtype='object')"
            ]
          },
          "metadata": {},
          "execution_count": 17
        }
      ]
    },
    {
      "cell_type": "code",
      "source": [
        "# As you play more with pandas you'll notice that a lot of things are implemented as numpy\n",
        "# arrays, and have the dtype value set. This is true of indicies, and here pandas infered\n",
        "# that we were using objects for the index."
      ],
      "metadata": {
        "id": "_Ry6fMRHcJNR"
      },
      "execution_count": 18,
      "outputs": []
    },
    {
      "cell_type": "code",
      "source": [
        "# Now, this is kind of interesting. The dtype of object is not just for strings, but for\n",
        "# arbitrary objects. Lets create a more complex type of data, say, a list of tuples.\n",
        "students = [(\"Alice\", \"Brown\"), (\"Jack\", \"White\"), (\"Molly\", \"Green\")]\n",
        "pd.Series(students)"
      ],
      "metadata": {
        "colab": {
          "base_uri": "https://localhost:8080/"
        },
        "id": "0OPjVBslcMjh",
        "outputId": "577e5e1e-5cc9-4208-a08d-1c1b8e3bf7ec"
      },
      "execution_count": 21,
      "outputs": [
        {
          "output_type": "execute_result",
          "data": {
            "text/plain": [
              "0    (Alice, Brown)\n",
              "1     (Jack, White)\n",
              "2    (Molly, Green)\n",
              "dtype: object"
            ]
          },
          "metadata": {},
          "execution_count": 21
        }
      ]
    },
    {
      "cell_type": "code",
      "source": [
        "# We see that each of the tuples is stored in the series object, and the type is object."
      ],
      "metadata": {
        "id": "kQGrZn3tcMn7"
      },
      "execution_count": 22,
      "outputs": []
    },
    {
      "cell_type": "code",
      "source": [
        "# You can also separate your index creation from the data by passing in the index as a\n",
        "# list explicitly to the series.\n",
        "\n",
        "s = pd.Series([\"Physics\", \"Chemistry\", \"English\"], [\"Alice\", \"Jack\", \"Molly\"])\n",
        "s"
      ],
      "metadata": {
        "colab": {
          "base_uri": "https://localhost:8080/"
        },
        "id": "X8GKFsYkcMqx",
        "outputId": "d485622e-47f2-4f79-d075-dd23fea17dce"
      },
      "execution_count": 23,
      "outputs": [
        {
          "output_type": "execute_result",
          "data": {
            "text/plain": [
              "Alice      Physics\n",
              "Jack     Chemistry\n",
              "Molly      English\n",
              "dtype: object"
            ]
          },
          "metadata": {},
          "execution_count": 23
        }
      ]
    },
    {
      "cell_type": "code",
      "source": [
        "# So what happens if your list of values in the index object are not aligned with the keys\n",
        "# in your dictionary for creating the series? Well, pandas overrides the automatic creation\n",
        "# to favor only and all of the indices values that you provided. So it will ignore from your\n",
        "# dictionary all keys which are not in your index, and pandas will add None or NaN type values\n",
        "# for any index value you provide, which is not in your dictionary key list.\n",
        "\n",
        "# Here's and example. I'll pass in a dictionary of three items, in this case students and\n",
        "# their courses\n",
        "students_scores = {\n",
        "    \"Alice\": \"Physics\",\n",
        "    \"Jack\": \"chemistry\",\n",
        "    \"Molly\": \"English\" }\n",
        "# When I create the series object though I'll only ask for an index with three students, and\n",
        "# I'll exclude Jack\n",
        "s = pd.Series(students_scores, index=[\"Alice\", \"Molly\", \"Sam\"])\n",
        "s"
      ],
      "metadata": {
        "colab": {
          "base_uri": "https://localhost:8080/"
        },
        "id": "HxPDUemycMtp",
        "outputId": "aa7e7a71-ab05-4340-97c7-48290f8459fe"
      },
      "execution_count": 24,
      "outputs": [
        {
          "output_type": "execute_result",
          "data": {
            "text/plain": [
              "Alice    Physics\n",
              "Molly    English\n",
              "Sam          NaN\n",
              "dtype: object"
            ]
          },
          "metadata": {},
          "execution_count": 24
        }
      ]
    },
    {
      "cell_type": "code",
      "source": [
        "# The result is that the Series object doesn't have Jack in it, even though he was in our\n",
        "# original dataset, but it explicitly does have Sam in it as a missing value."
      ],
      "metadata": {
        "id": "ZcruJziWcMwf"
      },
      "execution_count": 25,
      "outputs": []
    },
    {
      "cell_type": "markdown",
      "source": [
        "In this lecture we've explored the pandas Series data structure. You've seen how to create a series from lists and dictionaries, how indicies on data work, and the way that pandas typecasts data including missing values."
      ],
      "metadata": {
        "id": "NK-5aasQfCKO"
      }
    },
    {
      "cell_type": "code",
      "source": [],
      "metadata": {
        "id": "Qm0SDdw-cMzG"
      },
      "execution_count": null,
      "outputs": []
    }
  ]
}