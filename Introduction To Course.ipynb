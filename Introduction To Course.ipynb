{
 "cells": [
  {
   "cell_type": "code",
   "execution_count": 1,
   "id": "1abd9978",
   "metadata": {},
   "outputs": [
    {
     "data": {
      "text/plain": [
       "3"
      ]
     },
     "execution_count": 1,
     "metadata": {},
     "output_type": "execute_result"
    }
   ],
   "source": [
    "x = 1\n",
    "y = 2\n",
    "x + y"
   ]
  },
  {
   "cell_type": "code",
   "execution_count": 2,
   "id": "9dd0eb76",
   "metadata": {},
   "outputs": [
    {
     "data": {
      "text/plain": [
       "2"
      ]
     },
     "execution_count": 2,
     "metadata": {},
     "output_type": "execute_result"
    }
   ],
   "source": [
    "y"
   ]
  },
  {
   "cell_type": "code",
   "execution_count": 4,
   "id": "240ce794",
   "metadata": {},
   "outputs": [
    {
     "data": {
      "text/plain": [
       "3"
      ]
     },
     "execution_count": 4,
     "metadata": {},
     "output_type": "execute_result"
    }
   ],
   "source": [
    "def add_numbers(x, y):\n",
    "    return x + y\n",
    "\n",
    "add_numbers(1, 2)"
   ]
  },
  {
   "cell_type": "code",
   "execution_count": 9,
   "id": "8426c9fa",
   "metadata": {},
   "outputs": [
    {
     "name": "stdout",
     "output_type": "stream",
     "text": [
      "3\n",
      "6\n"
     ]
    }
   ],
   "source": [
    "def add_numbers(x, y, z=None):\n",
    "    if z == None:\n",
    "        return x + y\n",
    "    else:\n",
    "        return x + y + z\n",
    "        \n",
    "print(add_numbers(1, 2))\n",
    "print(add_numbers(1, 2, 3))"
   ]
  },
  {
   "cell_type": "code",
   "execution_count": 13,
   "id": "dd8ca2dd",
   "metadata": {},
   "outputs": [
    {
     "name": "stdout",
     "output_type": "stream",
     "text": [
      "Flag is true!\n",
      "3\n"
     ]
    }
   ],
   "source": [
    "def add_numbers(x, y, z = None, flag = False):\n",
    "    if (flag):\n",
    "        print(\"Flag is true!\")\n",
    "    if(z == None):\n",
    "        return x + y\n",
    "    else:\n",
    "        return x + y + z\n",
    "print(add_numbers(1, 2, flag=True))        "
   ]
  },
  {
   "cell_type": "code",
   "execution_count": 14,
   "id": "8c576775",
   "metadata": {},
   "outputs": [
    {
     "name": "stdout",
     "output_type": "stream",
     "text": [
      "1 2 a\n"
     ]
    }
   ],
   "source": [
    "print(1, 2, 'a')"
   ]
  },
  {
   "cell_type": "code",
   "execution_count": 15,
   "id": "bf8f2ecd",
   "metadata": {},
   "outputs": [
    {
     "data": {
      "text/plain": [
       "3"
      ]
     },
     "execution_count": 15,
     "metadata": {},
     "output_type": "execute_result"
    }
   ],
   "source": [
    "def add_numbers(x, y):\n",
    "    return x + y\n",
    "\n",
    "a = add_numbers\n",
    "a(1, 2)"
   ]
  },
  {
   "cell_type": "code",
   "execution_count": 16,
   "id": "2571c5cf",
   "metadata": {},
   "outputs": [
    {
     "data": {
      "text/plain": [
       "str"
      ]
     },
     "execution_count": 16,
     "metadata": {},
     "output_type": "execute_result"
    }
   ],
   "source": [
    "type('This is string')"
   ]
  },
  {
   "cell_type": "code",
   "execution_count": 17,
   "id": "03ea129a",
   "metadata": {},
   "outputs": [
    {
     "data": {
      "text/plain": [
       "NoneType"
      ]
     },
     "execution_count": 17,
     "metadata": {},
     "output_type": "execute_result"
    }
   ],
   "source": [
    "type(None)"
   ]
  },
  {
   "cell_type": "code",
   "execution_count": 18,
   "id": "cf252dde",
   "metadata": {},
   "outputs": [
    {
     "data": {
      "text/plain": [
       "int"
      ]
     },
     "execution_count": 18,
     "metadata": {},
     "output_type": "execute_result"
    }
   ],
   "source": [
    "type(1)"
   ]
  },
  {
   "cell_type": "code",
   "execution_count": 19,
   "id": "18004349",
   "metadata": {},
   "outputs": [
    {
     "data": {
      "text/plain": [
       "float"
      ]
     },
     "execution_count": 19,
     "metadata": {},
     "output_type": "execute_result"
    }
   ],
   "source": [
    "type(1.0)"
   ]
  },
  {
   "cell_type": "code",
   "execution_count": 20,
   "id": "d47247c2",
   "metadata": {},
   "outputs": [
    {
     "data": {
      "text/plain": [
       "function"
      ]
     },
     "execution_count": 20,
     "metadata": {},
     "output_type": "execute_result"
    }
   ],
   "source": [
    "type(add_numbers)"
   ]
  },
  {
   "cell_type": "code",
   "execution_count": 23,
   "id": "bed33bf6",
   "metadata": {},
   "outputs": [],
   "source": [
    "x = (1, 'a', 2, 'b')"
   ]
  },
  {
   "cell_type": "code",
   "execution_count": 24,
   "id": "0383b166",
   "metadata": {},
   "outputs": [
    {
     "data": {
      "text/plain": [
       "tuple"
      ]
     },
     "execution_count": 24,
     "metadata": {},
     "output_type": "execute_result"
    }
   ],
   "source": [
    "type(x)"
   ]
  },
  {
   "cell_type": "code",
   "execution_count": null,
   "id": "ea9970b2",
   "metadata": {},
   "outputs": [],
   "source": [
    "x = 1"
   ]
  },
  {
   "cell_type": "code",
   "execution_count": 25,
   "id": "bc6aa4e7",
   "metadata": {},
   "outputs": [],
   "source": [
    "x = [1, 'a', 2, 'b']"
   ]
  },
  {
   "cell_type": "code",
   "execution_count": 26,
   "id": "e0503af8",
   "metadata": {},
   "outputs": [
    {
     "data": {
      "text/plain": [
       "list"
      ]
     },
     "execution_count": 26,
     "metadata": {},
     "output_type": "execute_result"
    }
   ],
   "source": [
    "type(x)"
   ]
  },
  {
   "cell_type": "code",
   "execution_count": 27,
   "id": "5b4118ca",
   "metadata": {},
   "outputs": [
    {
     "data": {
      "text/plain": [
       "[1, 'a', 2, 'b', 3.3]"
      ]
     },
     "execution_count": 27,
     "metadata": {},
     "output_type": "execute_result"
    }
   ],
   "source": [
    "x.append(3.3)\n",
    "x"
   ]
  },
  {
   "cell_type": "code",
   "execution_count": 28,
   "id": "71f4fe8b",
   "metadata": {},
   "outputs": [
    {
     "name": "stdout",
     "output_type": "stream",
     "text": [
      "1\n",
      "a\n",
      "2\n",
      "b\n",
      "3.3\n"
     ]
    }
   ],
   "source": [
    "for item in x:\n",
    "    print(item)"
   ]
  },
  {
   "cell_type": "code",
   "execution_count": 30,
   "id": "a88326d6",
   "metadata": {},
   "outputs": [
    {
     "name": "stdout",
     "output_type": "stream",
     "text": [
      "1\n",
      "a\n",
      "2\n",
      "b\n",
      "3.3\n"
     ]
    }
   ],
   "source": [
    "i = 0\n",
    "while (i != len(x)):\n",
    "    print(x[i])\n",
    "    i = i + 1"
   ]
  },
  {
   "cell_type": "code",
   "execution_count": 31,
   "id": "74811047",
   "metadata": {},
   "outputs": [
    {
     "data": {
      "text/plain": [
       "[1, 2, 3, 4]"
      ]
     },
     "execution_count": 31,
     "metadata": {},
     "output_type": "execute_result"
    }
   ],
   "source": [
    "[1, 2] + [3, 4]"
   ]
  },
  {
   "cell_type": "code",
   "execution_count": 32,
   "id": "3544be44",
   "metadata": {},
   "outputs": [
    {
     "data": {
      "text/plain": [
       "[1, 1, 1]"
      ]
     },
     "execution_count": 32,
     "metadata": {},
     "output_type": "execute_result"
    }
   ],
   "source": [
    "[1] * 3"
   ]
  },
  {
   "cell_type": "code",
   "execution_count": 33,
   "id": "64befc86",
   "metadata": {},
   "outputs": [
    {
     "data": {
      "text/plain": [
       "True"
      ]
     },
     "execution_count": 33,
     "metadata": {},
     "output_type": "execute_result"
    }
   ],
   "source": [
    "1 in [1, 2, 3]"
   ]
  },
  {
   "cell_type": "code",
   "execution_count": 34,
   "id": "8ab5e6df",
   "metadata": {},
   "outputs": [
    {
     "name": "stdout",
     "output_type": "stream",
     "text": [
      "T\n",
      "T\n",
      "T\n"
     ]
    }
   ],
   "source": [
    "x = 'This is a string'\n",
    "print(x[0]) #first character\n",
    "print(x[0: 1]) #first character, but we have explicitly set the end character\n",
    "print(x[0: 1]) #first two characters"
   ]
  },
  {
   "cell_type": "code",
   "execution_count": 35,
   "id": "7cdb25ab",
   "metadata": {},
   "outputs": [
    {
     "data": {
      "text/plain": [
       "'g'"
      ]
     },
     "execution_count": 35,
     "metadata": {},
     "output_type": "execute_result"
    }
   ],
   "source": [
    "x[-1]"
   ]
  },
  {
   "cell_type": "code",
   "execution_count": 36,
   "id": "3bb9fab4",
   "metadata": {},
   "outputs": [
    {
     "data": {
      "text/plain": [
       "'ri'"
      ]
     },
     "execution_count": 36,
     "metadata": {},
     "output_type": "execute_result"
    }
   ],
   "source": [
    "x[-4: -2]"
   ]
  },
  {
   "cell_type": "code",
   "execution_count": 37,
   "id": "da0ed92f",
   "metadata": {},
   "outputs": [
    {
     "data": {
      "text/plain": [
       "'Thi'"
      ]
     },
     "execution_count": 37,
     "metadata": {},
     "output_type": "execute_result"
    }
   ],
   "source": [
    "x[: 3]"
   ]
  },
  {
   "cell_type": "code",
   "execution_count": 38,
   "id": "4a6c798e",
   "metadata": {},
   "outputs": [
    {
     "data": {
      "text/plain": [
       "'s is a string'"
      ]
     },
     "execution_count": 38,
     "metadata": {},
     "output_type": "execute_result"
    }
   ],
   "source": [
    "x[3:]"
   ]
  },
  {
   "cell_type": "code",
   "execution_count": 39,
   "id": "c1d421b7",
   "metadata": {},
   "outputs": [
    {
     "name": "stdout",
     "output_type": "stream",
     "text": [
      "Christopher Brooks\n",
      "ChristopherChristopherChristopher\n",
      "True\n"
     ]
    }
   ],
   "source": [
    "firstname = 'Christopher'\n",
    "lastname = 'Brooks'\n",
    "\n",
    "print(firstname + ' ' + lastname)\n",
    "print(firstname * 3)\n",
    "print('Chris' in firstname)"
   ]
  },
  {
   "cell_type": "code",
   "execution_count": 40,
   "id": "ed052dbf",
   "metadata": {},
   "outputs": [
    {
     "name": "stdout",
     "output_type": "stream",
     "text": [
      "Christopher\n",
      "Brooks\n"
     ]
    }
   ],
   "source": [
    "firstname = 'Christopher Arthur Hansen Brooks'.split(' ')[0] # [0] selects the first element of the list\n",
    "lastname = 'Christopher Arthur Hansen Brooks'.split(' ')[-1] # [-1] selects the last element of the list\n",
    "print(firstname)\n",
    "print(lastname)"
   ]
  },
  {
   "cell_type": "code",
   "execution_count": 41,
   "id": "d39db380",
   "metadata": {},
   "outputs": [
    {
     "ename": "TypeError",
     "evalue": "can only concatenate str (not \"int\") to str",
     "output_type": "error",
     "traceback": [
      "\u001b[0;31m---------------------------------------------------------------------------\u001b[0m",
      "\u001b[0;31mTypeError\u001b[0m                                 Traceback (most recent call last)",
      "Input \u001b[0;32mIn [41]\u001b[0m, in \u001b[0;36m<cell line: 1>\u001b[0;34m()\u001b[0m\n\u001b[0;32m----> 1\u001b[0m \u001b[38;5;124;43m'\u001b[39;49m\u001b[38;5;124;43mChris\u001b[39;49m\u001b[38;5;124;43m'\u001b[39;49m\u001b[43m \u001b[49m\u001b[38;5;241;43m+\u001b[39;49m\u001b[43m \u001b[49m\u001b[38;5;241;43m2\u001b[39;49m\n",
      "\u001b[0;31mTypeError\u001b[0m: can only concatenate str (not \"int\") to str"
     ]
    }
   ],
   "source": [
    "'Chris' + 2"
   ]
  },
  {
   "cell_type": "code",
   "execution_count": 42,
   "id": "bc14df2d",
   "metadata": {},
   "outputs": [
    {
     "data": {
      "text/plain": [
       "'Chris2'"
      ]
     },
     "execution_count": 42,
     "metadata": {},
     "output_type": "execute_result"
    }
   ],
   "source": [
    "'Chris' + str(2)"
   ]
  },
  {
   "cell_type": "code",
   "execution_count": 45,
   "id": "4ae447db",
   "metadata": {},
   "outputs": [
    {
     "data": {
      "text/plain": [
       "'brooksch@umich.edu'"
      ]
     },
     "execution_count": 45,
     "metadata": {},
     "output_type": "execute_result"
    }
   ],
   "source": [
    "x = {'Christopher Brooks': 'brooksch@umich.edu', 'Bill Gates': 'billg@microsoft.com'}\n",
    "x['Christopher Brooks'] # Retrieve a value by using the indexing operator"
   ]
  },
  {
   "cell_type": "code",
   "execution_count": 46,
   "id": "ddd6608d",
   "metadata": {},
   "outputs": [],
   "source": [
    "x['Kevyn Collins-Thompson'] = None\n",
    "x['Kevyn Collins-Thompson']"
   ]
  },
  {
   "cell_type": "code",
   "execution_count": 47,
   "id": "d8b25904",
   "metadata": {},
   "outputs": [
    {
     "name": "stdout",
     "output_type": "stream",
     "text": [
      "brooksch@umich.edu\n",
      "billg@microsoft.com\n",
      "None\n"
     ]
    }
   ],
   "source": [
    "for name in x:\n",
    "    print(x[name])"
   ]
  },
  {
   "cell_type": "code",
   "execution_count": 48,
   "id": "4e313532",
   "metadata": {},
   "outputs": [
    {
     "name": "stdout",
     "output_type": "stream",
     "text": [
      "brooksch@umich.edu\n",
      "billg@microsoft.com\n",
      "None\n"
     ]
    }
   ],
   "source": [
    "for email in x.values():\n",
    "    print(email)"
   ]
  },
  {
   "cell_type": "code",
   "execution_count": 49,
   "id": "b7a9bab1",
   "metadata": {},
   "outputs": [
    {
     "name": "stdout",
     "output_type": "stream",
     "text": [
      "Christopher Brooks\n",
      "brooksch@umich.edu\n",
      "Bill Gates\n",
      "billg@microsoft.com\n",
      "Kevyn Collins-Thompson\n",
      "None\n"
     ]
    }
   ],
   "source": [
    "for name, email in x.items():\n",
    "    print(name)\n",
    "    print(email)"
   ]
  },
  {
   "cell_type": "code",
   "execution_count": 51,
   "id": "02b43ade",
   "metadata": {},
   "outputs": [],
   "source": [
    "x = ['Christopher', 'Brooks', 'brooksch@umich.edu']\n",
    "fname, lname, email = x"
   ]
  },
  {
   "cell_type": "code",
   "execution_count": 52,
   "id": "dc5eea9e",
   "metadata": {},
   "outputs": [
    {
     "data": {
      "text/plain": [
       "'Christopher'"
      ]
     },
     "execution_count": 52,
     "metadata": {},
     "output_type": "execute_result"
    }
   ],
   "source": [
    "fname"
   ]
  },
  {
   "cell_type": "code",
   "execution_count": 53,
   "id": "85b961b7",
   "metadata": {},
   "outputs": [
    {
     "data": {
      "text/plain": [
       "'Brooks'"
      ]
     },
     "execution_count": 53,
     "metadata": {},
     "output_type": "execute_result"
    }
   ],
   "source": [
    "lname"
   ]
  },
  {
   "cell_type": "code",
   "execution_count": 54,
   "id": "a9ef39c0",
   "metadata": {},
   "outputs": [
    {
     "ename": "ValueError",
     "evalue": "too many values to unpack (expected 3)",
     "output_type": "error",
     "traceback": [
      "\u001b[0;31m---------------------------------------------------------------------------\u001b[0m",
      "\u001b[0;31mValueError\u001b[0m                                Traceback (most recent call last)",
      "Input \u001b[0;32mIn [54]\u001b[0m, in \u001b[0;36m<cell line: 2>\u001b[0;34m()\u001b[0m\n\u001b[1;32m      1\u001b[0m x \u001b[38;5;241m=\u001b[39m (\u001b[38;5;124m'\u001b[39m\u001b[38;5;124mChristopher\u001b[39m\u001b[38;5;124m'\u001b[39m, \u001b[38;5;124m'\u001b[39m\u001b[38;5;124mBrooks\u001b[39m\u001b[38;5;124m'\u001b[39m, \u001b[38;5;124m'\u001b[39m\u001b[38;5;124mbrooksch@umich.edu\u001b[39m\u001b[38;5;124m'\u001b[39m, \u001b[38;5;124m'\u001b[39m\u001b[38;5;124mAnn Arbor\u001b[39m\u001b[38;5;124m'\u001b[39m)\n\u001b[0;32m----> 2\u001b[0m fname, lname, email \u001b[38;5;241m=\u001b[39m x\n",
      "\u001b[0;31mValueError\u001b[0m: too many values to unpack (expected 3)"
     ]
    }
   ],
   "source": [
    "x = ('Christopher', 'Brooks', 'brooksch@umich.edu', 'Ann Arbor')\n",
    "fname, lname, email = x"
   ]
  },
  {
   "cell_type": "code",
   "execution_count": 55,
   "id": "b021033a",
   "metadata": {},
   "outputs": [
    {
     "ename": "TypeError",
     "evalue": "can only concatenate str (not \"int\") to str",
     "output_type": "error",
     "traceback": [
      "\u001b[0;31m---------------------------------------------------------------------------\u001b[0m",
      "\u001b[0;31mTypeError\u001b[0m                                 Traceback (most recent call last)",
      "Input \u001b[0;32mIn [55]\u001b[0m, in \u001b[0;36m<cell line: 1>\u001b[0;34m()\u001b[0m\n\u001b[0;32m----> 1\u001b[0m \u001b[38;5;28mprint\u001b[39m(\u001b[38;5;124;43m'\u001b[39;49m\u001b[38;5;124;43mChris\u001b[39;49m\u001b[38;5;124;43m'\u001b[39;49m\u001b[43m \u001b[49m\u001b[38;5;241;43m+\u001b[39;49m\u001b[43m \u001b[49m\u001b[38;5;241;43m2\u001b[39;49m)\n",
      "\u001b[0;31mTypeError\u001b[0m: can only concatenate str (not \"int\") to str"
     ]
    }
   ],
   "source": [
    "print('Chris' + 2)"
   ]
  },
  {
   "cell_type": "code",
   "execution_count": 56,
   "id": "56f503b1",
   "metadata": {},
   "outputs": [
    {
     "name": "stdout",
     "output_type": "stream",
     "text": [
      "Chris2\n"
     ]
    }
   ],
   "source": [
    "print('Chris' + str(2))"
   ]
  },
  {
   "cell_type": "code",
   "execution_count": 57,
   "id": "50ec4ac9",
   "metadata": {},
   "outputs": [
    {
     "name": "stdout",
     "output_type": "stream",
     "text": [
      "Chris bought 4 item(s) at a price of 3.24 each for a total of 12.96\n"
     ]
    }
   ],
   "source": [
    "sales_record = {\n",
    "    'price': 3.24,\n",
    "    'num_items': 4,\n",
    "    'person': 'Chris' }\n",
    "\n",
    "sales_statement = '{} bought {} item(s) at a price of {} each for a total of {}'\n",
    "\n",
    "print(sales_statement.format(\n",
    "    sales_record['person'],\n",
    "    sales_record['num_items'],\n",
    "    sales_record['price'],\n",
    "    sales_record['num_items'] * sales_record['price']\n",
    "))"
   ]
  },
  {
   "cell_type": "code",
   "execution_count": null,
   "id": "2a896644",
   "metadata": {},
   "outputs": [],
   "source": [
    "Let's import our datafile mpg.csv, which contains fuel economy data for 234 cars.\n",
    "\n",
    "* mpg : miles per gallon\n",
    "* class : car classification\n",
    "* cty : city mpg\n",
    "* cyl : # of cylinders\n",
    "* displ : engine displacement in liters\n",
    "* drv : f = front-wheel drive, r = rear wheel drive, 4 = 4wd\n",
    "* fl : fuel (e = ethanol E85, d = diesel, r = regular, p = premium, c = CNG)\n",
    "* hwy : highway mpg\n",
    "* manufacturer : automobile manufacturer\n",
    "* model : model of car\n",
    "* trans : type of transmission\n",
    "* year : model year"
   ]
  },
  {
   "cell_type": "code",
   "execution_count": 61,
   "id": "910d1a2f",
   "metadata": {},
   "outputs": [
    {
     "data": {
      "text/plain": [
       "[{'Date': '2012-01-03',\n",
       "  'Open': '58.485714',\n",
       "  'High': '58.928570',\n",
       "  'Low': '58.428570',\n",
       "  'Close': '58.747143',\n",
       "  'Adj Close': '39.172771',\n",
       "  'Volume': '75555200'},\n",
       " {'Date': '2012-01-04',\n",
       "  'Open': '58.571430',\n",
       "  'High': '59.240002',\n",
       "  'Low': '58.468571',\n",
       "  'Close': '59.062859',\n",
       "  'Adj Close': '39.383293',\n",
       "  'Volume': '65005500'},\n",
       " {'Date': '2012-01-05',\n",
       "  'Open': '59.278572',\n",
       "  'High': '59.792858',\n",
       "  'Low': '58.952858',\n",
       "  'Close': '59.718571',\n",
       "  'Adj Close': '39.820515',\n",
       "  'Volume': '67817400'}]"
      ]
     },
     "execution_count": 61,
     "metadata": {},
     "output_type": "execute_result"
    }
   ],
   "source": [
    "import csv\n",
    "\n",
    "%precision 2\n",
    "\n",
    "with open('datasets/AAPL.csv') as csvfile:\n",
    "    mpg = list(csv.DictReader(csvfile))\n",
    "    \n",
    "mpg[: 3] # The first three dictionaries in our list.    "
   ]
  },
  {
   "cell_type": "code",
   "execution_count": 62,
   "id": "1c0a3de7",
   "metadata": {},
   "outputs": [
    {
     "data": {
      "text/plain": [
       "1760"
      ]
     },
     "execution_count": 62,
     "metadata": {},
     "output_type": "execute_result"
    }
   ],
   "source": [
    "len(mpg)"
   ]
  },
  {
   "cell_type": "code",
   "execution_count": 63,
   "id": "0443dc78",
   "metadata": {},
   "outputs": [
    {
     "data": {
      "text/plain": [
       "dict_keys(['Date', 'Open', 'High', 'Low', 'Close', 'Adj Close', 'Volume'])"
      ]
     },
     "execution_count": 63,
     "metadata": {},
     "output_type": "execute_result"
    }
   ],
   "source": [
    "mpg[0].keys()"
   ]
  },
  {
   "cell_type": "code",
   "execution_count": 66,
   "id": "384e0532",
   "metadata": {},
   "outputs": [
    {
     "data": {
      "text/plain": [
       "115.18"
      ]
     },
     "execution_count": 66,
     "metadata": {},
     "output_type": "execute_result"
    }
   ],
   "source": [
    "sum(float(d['Open']) for d in mpg) / len(mpg)"
   ]
  },
  {
   "cell_type": "code",
   "execution_count": 67,
   "id": "fc148ad0",
   "metadata": {},
   "outputs": [
    {
     "data": {
      "text/plain": [
       "115.16"
      ]
     },
     "execution_count": 67,
     "metadata": {},
     "output_type": "execute_result"
    }
   ],
   "source": [
    "sum(float(d['Close']) for d in mpg) / len(mpg)"
   ]
  },
  {
   "cell_type": "code",
   "execution_count": 69,
   "id": "e3dba748",
   "metadata": {},
   "outputs": [
    {
     "data": {
      "text/plain": [
       "{'24607400',\n",
       " '166574800',\n",
       " '43988900',\n",
       " '45812400',\n",
       " '19232000',\n",
       " '69976000',\n",
       " '82242700',\n",
       " '75415000',\n",
       " '32936400',\n",
       " '50999500',\n",
       " '74708900',\n",
       " '236264000',\n",
       " '23695200',\n",
       " '28719100',\n",
       " '34324500',\n",
       " '23475600',\n",
       " '73406200',\n",
       " '16591100',\n",
       " '45203500',\n",
       " '92337700',\n",
       " '85010800',\n",
       " '41490800',\n",
       " '16230300',\n",
       " '86879100',\n",
       " '65506700',\n",
       " '84311500',\n",
       " '11475900',\n",
       " '99507800',\n",
       " '127989400',\n",
       " '114602100',\n",
       " '198412200',\n",
       " '69054300',\n",
       " '96075700',\n",
       " '20810600',\n",
       " '25703500',\n",
       " '46478800',\n",
       " '20562900',\n",
       " '36338100',\n",
       " '38670400',\n",
       " '148583400',\n",
       " '56075400',\n",
       " '68074300',\n",
       " '52099600',\n",
       " '41654100',\n",
       " '24970300',\n",
       " '20525100',\n",
       " '294303100',\n",
       " '27232300',\n",
       " '37086900',\n",
       " '190526700',\n",
       " '88528500',\n",
       " '24884500',\n",
       " '31882900',\n",
       " '52109000',\n",
       " '52687900',\n",
       " '118230700',\n",
       " '115029600',\n",
       " '29421100',\n",
       " '62626100',\n",
       " '60428200',\n",
       " '41601000',\n",
       " '44063600',\n",
       " '49271400',\n",
       " '35012300',\n",
       " '45519000',\n",
       " '28500400',\n",
       " '25869100',\n",
       " '46361400',\n",
       " '47450800',\n",
       " '82126800',\n",
       " '18690500',\n",
       " '101901100',\n",
       " '91086100',\n",
       " '26933200',\n",
       " '46939000',\n",
       " '22525500',\n",
       " '50882900',\n",
       " '23292500',\n",
       " '35655800',\n",
       " '35756700',\n",
       " '28382100',\n",
       " '39958000',\n",
       " '20567800',\n",
       " '104233500',\n",
       " '75207300',\n",
       " '71528100',\n",
       " '28402800',\n",
       " '41574400',\n",
       " '68531500',\n",
       " '32478900',\n",
       " '90862100',\n",
       " '33169600',\n",
       " '20034600',\n",
       " '26195500',\n",
       " '17421700',\n",
       " '54719700',\n",
       " '118559000',\n",
       " '161010500',\n",
       " '49886200',\n",
       " '20836900',\n",
       " '65062900',\n",
       " '125374900',\n",
       " '28654800',\n",
       " '37619800',\n",
       " '94835300',\n",
       " '31663100',\n",
       " '35427000',\n",
       " '134871100',\n",
       " '69650700',\n",
       " '354711000',\n",
       " '61888800',\n",
       " '21750000',\n",
       " '189846300',\n",
       " '20748000',\n",
       " '14249500',\n",
       " '21542000',\n",
       " '29104200',\n",
       " '51069200',\n",
       " '68501600',\n",
       " '79438800',\n",
       " '31561900',\n",
       " '31666300',\n",
       " '63407400',\n",
       " '34402600',\n",
       " '57373400',\n",
       " '35887000',\n",
       " '44772800',\n",
       " '100809800',\n",
       " '48752400',\n",
       " '21984700',\n",
       " '27269600',\n",
       " '79713900',\n",
       " '23793500',\n",
       " '37173500',\n",
       " '30442100',\n",
       " '69936800',\n",
       " '91070000',\n",
       " '65491100',\n",
       " '24451200',\n",
       " '38358900',\n",
       " '20923000',\n",
       " '26932600',\n",
       " '18667700',\n",
       " '18871500',\n",
       " '66473000',\n",
       " '46765600',\n",
       " '19818900',\n",
       " '48756400',\n",
       " '97763400',\n",
       " '93375800',\n",
       " '75311400',\n",
       " '92570100',\n",
       " '115099600',\n",
       " '66163700',\n",
       " '186021500',\n",
       " '42810000',\n",
       " '58363400',\n",
       " '60801000',\n",
       " '94785600',\n",
       " '62777000',\n",
       " '28528800',\n",
       " '88470900',\n",
       " '29641100',\n",
       " '22050200',\n",
       " '54951600',\n",
       " '64318700',\n",
       " '81094400',\n",
       " '202281100',\n",
       " '31193400',\n",
       " '72611700',\n",
       " '77517300',\n",
       " '97920900',\n",
       " '34319500',\n",
       " '95744600',\n",
       " '100363900',\n",
       " '37709700',\n",
       " '44886100',\n",
       " '44392800',\n",
       " '33691500',\n",
       " '36236000',\n",
       " '118149500',\n",
       " '56189000',\n",
       " '71714000',\n",
       " '67935700',\n",
       " '90804000',\n",
       " '40635300',\n",
       " '26891000',\n",
       " '29855800',\n",
       " '132357400',\n",
       " '17000500',\n",
       " '26131500',\n",
       " '169625400',\n",
       " '17461000',\n",
       " '65270900',\n",
       " '65655100',\n",
       " '129114300',\n",
       " '50988300',\n",
       " '46946800',\n",
       " '254608200',\n",
       " '72899400',\n",
       " '43706600',\n",
       " '43733800',\n",
       " '109215400',\n",
       " '24054500',\n",
       " '125326600',\n",
       " '118924000',\n",
       " '28116000',\n",
       " '91328700',\n",
       " '156421300',\n",
       " '55197000',\n",
       " '27705200',\n",
       " '77025200',\n",
       " '26601400',\n",
       " '23192700',\n",
       " '50640800',\n",
       " '43938300',\n",
       " '41865000',\n",
       " '24788200',\n",
       " '26419400',\n",
       " '125702500',\n",
       " '29445200',\n",
       " '208679800',\n",
       " '32842300',\n",
       " '78540700',\n",
       " '35626800',\n",
       " '36886200',\n",
       " '41925300',\n",
       " '81587800',\n",
       " '99621900',\n",
       " '62008500',\n",
       " '96209400',\n",
       " '97870500',\n",
       " '88818800',\n",
       " '120176000',\n",
       " '24125800',\n",
       " '160324500',\n",
       " '138719700',\n",
       " '25868200',\n",
       " '24128800',\n",
       " '40105900',\n",
       " '41990600',\n",
       " '88429800',\n",
       " '28465000',\n",
       " '81718700',\n",
       " '15534500',\n",
       " '43341200',\n",
       " '156314900',\n",
       " '59127900',\n",
       " '148522500',\n",
       " '19235600',\n",
       " '160688500',\n",
       " '23774100',\n",
       " '53771200',\n",
       " '241632300',\n",
       " '160081600',\n",
       " '24863900',\n",
       " '41795200',\n",
       " '150118500',\n",
       " '25966000',\n",
       " '29219100',\n",
       " '17328400',\n",
       " '20346300',\n",
       " '119279300',\n",
       " '31916000',\n",
       " '121786000',\n",
       " '72635500',\n",
       " '33930500',\n",
       " '73365400',\n",
       " '31074000',\n",
       " '40884700',\n",
       " '36869000',\n",
       " '83814000',\n",
       " '97829900',\n",
       " '48511000',\n",
       " '72296000',\n",
       " '19985700',\n",
       " '36585000',\n",
       " '53691400',\n",
       " '114160200',\n",
       " '145688900',\n",
       " '93982000',\n",
       " '24121500',\n",
       " '208639900',\n",
       " '25226000',\n",
       " '93088100',\n",
       " '24167500',\n",
       " '21118100',\n",
       " '23538700',\n",
       " '19891400',\n",
       " '66934700',\n",
       " '91931000',\n",
       " '78870400',\n",
       " '68506200',\n",
       " '47590600',\n",
       " '44907400',\n",
       " '38398500',\n",
       " '89735800',\n",
       " '83713000',\n",
       " '21090600',\n",
       " '33010000',\n",
       " '24358400',\n",
       " '48951000',\n",
       " '75951400',\n",
       " '30931200',\n",
       " '124160400',\n",
       " '27940600',\n",
       " '316723400',\n",
       " '28331700',\n",
       " '44639300',\n",
       " '25076100',\n",
       " '53564000',\n",
       " '79302300',\n",
       " '129304000',\n",
       " '117330500',\n",
       " '27442300',\n",
       " '36222400',\n",
       " '70798000',\n",
       " '51105100',\n",
       " '68924100',\n",
       " '69041700',\n",
       " '48535800',\n",
       " '23600800',\n",
       " '18296900',\n",
       " '93511600',\n",
       " '46645400',\n",
       " '39130400',\n",
       " '29881500',\n",
       " '31751900',\n",
       " '49305200',\n",
       " '94118500',\n",
       " '94941700',\n",
       " '44565300',\n",
       " '18400800',\n",
       " '151549300',\n",
       " '71649900',\n",
       " '40621400',\n",
       " '18697900',\n",
       " '24553500',\n",
       " '70672600',\n",
       " '63688600',\n",
       " '72462600',\n",
       " '60834000',\n",
       " '111895000',\n",
       " '43885000',\n",
       " '97082800',\n",
       " '20126900',\n",
       " '141465800',\n",
       " '219193100',\n",
       " '84344400',\n",
       " '151398800',\n",
       " '113780100',\n",
       " '27989300',\n",
       " '41668500',\n",
       " '127629600',\n",
       " '42803200',\n",
       " '18041100',\n",
       " '62404000',\n",
       " '30278000',\n",
       " '15039500',\n",
       " '33152000',\n",
       " '26276000',\n",
       " '92344800',\n",
       " '21250800',\n",
       " '45601100',\n",
       " '99367800',\n",
       " '50015700',\n",
       " '22885400',\n",
       " '32525600',\n",
       " '39759300',\n",
       " '66303300',\n",
       " '42044500',\n",
       " '58457000',\n",
       " '69884400',\n",
       " '18883200',\n",
       " '23624900',\n",
       " '50749300',\n",
       " '89983600',\n",
       " '62353200',\n",
       " '24008500',\n",
       " '142897300',\n",
       " '196760200',\n",
       " '52766100',\n",
       " '99312600',\n",
       " '88255300',\n",
       " '17213700',\n",
       " '63175000',\n",
       " '143245200',\n",
       " '64632400',\n",
       " '26845900',\n",
       " '35874300',\n",
       " '97936300',\n",
       " '27632000',\n",
       " '121039100',\n",
       " '43940900',\n",
       " '85551400',\n",
       " '31712900',\n",
       " '68840400',\n",
       " '75077000',\n",
       " '57988000',\n",
       " '49047300',\n",
       " '32476300',\n",
       " '176786400',\n",
       " '100092000',\n",
       " '25131300',\n",
       " '21265800',\n",
       " '24409500',\n",
       " '39232600',\n",
       " '39087300',\n",
       " '36515500',\n",
       " '63944300',\n",
       " '110709900',\n",
       " '38454000',\n",
       " '75555200',\n",
       " '32425100',\n",
       " '29663900',\n",
       " '99886500',\n",
       " '23482900',\n",
       " '72729300',\n",
       " '44863200',\n",
       " '60171800',\n",
       " '27693400',\n",
       " '87484600',\n",
       " '53087700',\n",
       " '20257400',\n",
       " '27200400',\n",
       " '65800500',\n",
       " '72307300',\n",
       " '69696200',\n",
       " '54525000',\n",
       " '23779900',\n",
       " '18707200',\n",
       " '26374400',\n",
       " '68856600',\n",
       " '57134500',\n",
       " '37471600',\n",
       " '29264600',\n",
       " '45596000',\n",
       " '88925200',\n",
       " '46418100',\n",
       " '29158100',\n",
       " '97799100',\n",
       " '58671200',\n",
       " '26337600',\n",
       " '62892800',\n",
       " '15043100',\n",
       " '53302200',\n",
       " '32377600',\n",
       " '48793800',\n",
       " '27254800',\n",
       " '45964300',\n",
       " '106752100',\n",
       " '37541200',\n",
       " '44700800',\n",
       " '199630200',\n",
       " '49988000',\n",
       " '26252600',\n",
       " '139248900',\n",
       " '52788400',\n",
       " '26299800',\n",
       " '29173300',\n",
       " '53124400',\n",
       " '56843000',\n",
       " '83745500',\n",
       " '39531500',\n",
       " '40703700',\n",
       " '28408600',\n",
       " '35561000',\n",
       " '112342300',\n",
       " '138112100',\n",
       " '13570400',\n",
       " '29468500',\n",
       " '18831500',\n",
       " '33686800',\n",
       " '59091900',\n",
       " '32482500',\n",
       " '17868800',\n",
       " '72842100',\n",
       " '136520300',\n",
       " '37861700',\n",
       " '18308500',\n",
       " '49365300',\n",
       " '25331700',\n",
       " '88146100',\n",
       " '84436400',\n",
       " '24611200',\n",
       " '60790700',\n",
       " '40191600',\n",
       " '59364500',\n",
       " '36493900',\n",
       " '56239800',\n",
       " '25860200',\n",
       " '252394800',\n",
       " '25199400',\n",
       " '20676200',\n",
       " '141330700',\n",
       " '41403400',\n",
       " '31326800',\n",
       " '33478000',\n",
       " '54272200',\n",
       " '115003700',\n",
       " '56028100',\n",
       " '41401700',\n",
       " '33794400',\n",
       " '120825600',\n",
       " '178058300',\n",
       " '33042300',\n",
       " '83140400',\n",
       " '137442900',\n",
       " '57298000',\n",
       " '33692000',\n",
       " '27201700',\n",
       " '56471100',\n",
       " '62370500',\n",
       " '40925500',\n",
       " '86088100',\n",
       " '50346200',\n",
       " '17134300',\n",
       " '89611900',\n",
       " '39529900',\n",
       " '220485300',\n",
       " '27195500',\n",
       " '29465500',\n",
       " '53699500',\n",
       " '63170100',\n",
       " '133369700',\n",
       " '13046400',\n",
       " '86258200',\n",
       " '20559900',\n",
       " '29184000',\n",
       " '25711900',\n",
       " '150801000',\n",
       " '126727300',\n",
       " '27350200',\n",
       " '147816200',\n",
       " '66854200',\n",
       " '130246900',\n",
       " '32689100',\n",
       " '21604600',\n",
       " '45352200',\n",
       " '149843400',\n",
       " '68263100',\n",
       " '61008200',\n",
       " '24814400',\n",
       " '115581900',\n",
       " '33721000',\n",
       " '25285300',\n",
       " '59299800',\n",
       " '80077200',\n",
       " '67825200',\n",
       " '148501500',\n",
       " '26212200',\n",
       " '88241300',\n",
       " '24024000',\n",
       " '28970400',\n",
       " '125421000',\n",
       " '59006200',\n",
       " '61316500',\n",
       " '64041000',\n",
       " '172713800',\n",
       " '140224000',\n",
       " '38919000',\n",
       " '222431300',\n",
       " '16604200',\n",
       " '52234700',\n",
       " '50190000',\n",
       " '27211000',\n",
       " '21425000',\n",
       " '64717100',\n",
       " '44224000',\n",
       " '27766300',\n",
       " '74714500',\n",
       " '43458200',\n",
       " '160990200',\n",
       " '68722500',\n",
       " '27484500',\n",
       " '22198200',\n",
       " '376530000',\n",
       " '146477100',\n",
       " '85042300',\n",
       " '44370700',\n",
       " '69567400',\n",
       " '110103000',\n",
       " '20041200',\n",
       " '209649300',\n",
       " '122918600',\n",
       " '39180300',\n",
       " '15309100',\n",
       " '170817500',\n",
       " '69134100',\n",
       " '47099700',\n",
       " '34031800',\n",
       " '51542400',\n",
       " '19076000',\n",
       " '48160100',\n",
       " '94623900',\n",
       " '42291400',\n",
       " '73573500',\n",
       " '45218000',\n",
       " '49899900',\n",
       " '150286500',\n",
       " '64441300',\n",
       " '36928300',\n",
       " '35003500',\n",
       " '31942600',\n",
       " '35546400',\n",
       " '100933600',\n",
       " '73177300',\n",
       " '45729000',\n",
       " '155967700',\n",
       " '45935500',\n",
       " '70716100',\n",
       " '197477700',\n",
       " '54749000',\n",
       " '16982100',\n",
       " '21584000',\n",
       " '67218100',\n",
       " '65005500',\n",
       " '68179700',\n",
       " '103601600',\n",
       " '33513600',\n",
       " '23469200',\n",
       " '55843900',\n",
       " '30889400',\n",
       " '58512600',\n",
       " '116199300',\n",
       " '55550400',\n",
       " '34094100',\n",
       " '45477900',\n",
       " '48778800',\n",
       " '23637500',\n",
       " '17365200',\n",
       " '30268900',\n",
       " '68695900',\n",
       " '34018000',\n",
       " '26608800',\n",
       " '59522900',\n",
       " '365213100',\n",
       " '21108100',\n",
       " '128674700',\n",
       " '19649400',\n",
       " '32112800',\n",
       " '23211000',\n",
       " '37356200',\n",
       " '24462100',\n",
       " '30837000',\n",
       " '19399100',\n",
       " '66539400',\n",
       " '47572000',\n",
       " '90351100',\n",
       " '17446300',\n",
       " '48802000',\n",
       " '70564200',\n",
       " '46464800',\n",
       " '108845100',\n",
       " '30611000',\n",
       " '53233900',\n",
       " '53117100',\n",
       " '33446800',\n",
       " '68695100',\n",
       " '204165500',\n",
       " '61719200',\n",
       " '20286800',\n",
       " '60972100',\n",
       " '82644100',\n",
       " '62014800',\n",
       " '54843600',\n",
       " '27097300',\n",
       " '26257100',\n",
       " '86593800',\n",
       " '20132100',\n",
       " '35216300',\n",
       " '28037200',\n",
       " '32084200',\n",
       " '100366000',\n",
       " '67929400',\n",
       " '58900200',\n",
       " '31531200',\n",
       " '66908100',\n",
       " '87626700',\n",
       " '56863100',\n",
       " '140129500',\n",
       " '83039600',\n",
       " '119075600',\n",
       " '25368100',\n",
       " '71458100',\n",
       " '33049300',\n",
       " '63398300',\n",
       " '15989400',\n",
       " '22743800',\n",
       " '40644900',\n",
       " '87216500',\n",
       " '185403400',\n",
       " '157644900',\n",
       " '39934300',\n",
       " '56238500',\n",
       " '64853600',\n",
       " '24554400',\n",
       " '25555900',\n",
       " '173717600',\n",
       " '44387300',\n",
       " '82416600',\n",
       " '80996300',\n",
       " '236138000',\n",
       " '18476400',\n",
       " '18997300',\n",
       " '40922600',\n",
       " '57179300',\n",
       " '43063400',\n",
       " '22889300',\n",
       " '32597900',\n",
       " '162206300',\n",
       " '59914400',\n",
       " '93250500',\n",
       " '22395600',\n",
       " '79239300',\n",
       " '22966400',\n",
       " '98776300',\n",
       " '46055100',\n",
       " '46557000',\n",
       " '71766800',\n",
       " '42307200',\n",
       " '44462400',\n",
       " '82809300',\n",
       " '35890500',\n",
       " '88569600',\n",
       " '167371400',\n",
       " '32527000',\n",
       " '42062400',\n",
       " '34411900',\n",
       " '48734700',\n",
       " '35273800',\n",
       " '27426400',\n",
       " '58709000',\n",
       " '18660400',\n",
       " '70573300',\n",
       " '17294000',\n",
       " '30791000',\n",
       " '302006600',\n",
       " '50701700',\n",
       " '115450600',\n",
       " '62739100',\n",
       " '32657400',\n",
       " '25473900',\n",
       " '72647400',\n",
       " '133951300',\n",
       " '51608600',\n",
       " '96954200',\n",
       " '176145200',\n",
       " '19918900',\n",
       " '78430800',\n",
       " '90576500',\n",
       " '97909700',\n",
       " '49747600',\n",
       " '42094200',\n",
       " '98735000',\n",
       " '29516900',\n",
       " '28792100',\n",
       " '26211000',\n",
       " '89672100',\n",
       " '23675100',\n",
       " '35368600',\n",
       " '21638400',\n",
       " '196379400',\n",
       " '76095600',\n",
       " '82086200',\n",
       " '33683100',\n",
       " '37299400',\n",
       " '52064700',\n",
       " '66622500',\n",
       " '41440500',\n",
       " '21578400',\n",
       " '68231100',\n",
       " '42246200',\n",
       " '26528000',\n",
       " '14479600',\n",
       " '36436000',\n",
       " '67649400',\n",
       " '33185500',\n",
       " '22776800',\n",
       " '40586000',\n",
       " '57711500',\n",
       " '37169200',\n",
       " '61156900',\n",
       " '50407100',\n",
       " '74927300',\n",
       " '71117900',\n",
       " '31801900',\n",
       " '49057900',\n",
       " '221053700',\n",
       " '64029000',\n",
       " '136682700',\n",
       " '32185200',\n",
       " '16672200',\n",
       " '183073100',\n",
       " '70709100',\n",
       " '51957000',\n",
       " '58052400',\n",
       " '159941600',\n",
       " '61012000',\n",
       " '30181200',\n",
       " '117466300',\n",
       " '164873100',\n",
       " '27255100',\n",
       " '115386600',\n",
       " '49154200',\n",
       " '36660000',\n",
       " '38318900',\n",
       " '34808800',\n",
       " '52369000',\n",
       " '55791000',\n",
       " '51023100',\n",
       " '68457400',\n",
       " '43340100',\n",
       " '76845900',\n",
       " '38558000',\n",
       " '54716900',\n",
       " '38106700',\n",
       " '26085900',\n",
       " '124057500',\n",
       " '28611500',\n",
       " '38018600',\n",
       " '28062900',\n",
       " '48575900',\n",
       " '33374800',\n",
       " '42343600',\n",
       " '106070300',\n",
       " '33795000',\n",
       " '26704200',\n",
       " '42035800',\n",
       " '40444900',\n",
       " '50038100',\n",
       " '40169300',\n",
       " '89881400',\n",
       " '36414600',\n",
       " '20048500',\n",
       " '35439400',\n",
       " '22929400',\n",
       " '65434600',\n",
       " '43143000',\n",
       " '64773000',\n",
       " '46746700',\n",
       " '46356700',\n",
       " '37654500',\n",
       " '21029500',\n",
       " '146837600',\n",
       " '20860400',\n",
       " '21984300',\n",
       " '44646000',\n",
       " '40188000',\n",
       " '34287100',\n",
       " '26701500',\n",
       " '52674800',\n",
       " '84093800',\n",
       " '41025500',\n",
       " '28369000',\n",
       " '44525900',\n",
       " '41888700',\n",
       " '47445700',\n",
       " '29190000',\n",
       " '136895500',\n",
       " '39021000',\n",
       " '30238800',\n",
       " '100345700',\n",
       " '26315200',\n",
       " '151782400',\n",
       " '127589000',\n",
       " '62176200',\n",
       " '32542400',\n",
       " '93729300',\n",
       " '50141000',\n",
       " '44595000',\n",
       " '25892200',\n",
       " '28349900',\n",
       " '99526700',\n",
       " '132379800',\n",
       " '80688300',\n",
       " '16393400',\n",
       " '28313700',\n",
       " '128950500',\n",
       " '40943500',\n",
       " '42427400',\n",
       " '32702000',\n",
       " '33226200',\n",
       " '33568200',\n",
       " '44998500',\n",
       " '92348900',\n",
       " '128275500',\n",
       " '36205900',\n",
       " '25362600',\n",
       " '27717900',\n",
       " '76756400',\n",
       " '51135500',\n",
       " '54134500',\n",
       " '214911200',\n",
       " '70149700',\n",
       " '50640400',\n",
       " '82982200',\n",
       " '25213800',\n",
       " '101820600',\n",
       " '25086200',\n",
       " '26028400',\n",
       " '26578700',\n",
       " '89327700',\n",
       " '71074700',\n",
       " '62353100',\n",
       " '21388300',\n",
       " '225309000',\n",
       " '35502700',\n",
       " '41666400',\n",
       " '84142100',\n",
       " '18933400',\n",
       " '37329200',\n",
       " '50361100',\n",
       " '68812800',\n",
       " '22193600',\n",
       " '68206600',\n",
       " '152263300',\n",
       " '51227300',\n",
       " '32220100',\n",
       " '48479200',\n",
       " '60479300',\n",
       " '26785100',\n",
       " '27733700',\n",
       " '131693800',\n",
       " '32581300',\n",
       " '91108500',\n",
       " '110888700',\n",
       " '52481200',\n",
       " '153346200',\n",
       " '46471700',\n",
       " '34290000',\n",
       " '17320900',\n",
       " '92992200',\n",
       " '143336900',\n",
       " '30586300',\n",
       " '79480100',\n",
       " '32264500',\n",
       " '27408200',\n",
       " '119084000',\n",
       " '149590000',\n",
       " '16262400',\n",
       " '232478400',\n",
       " '39730400',\n",
       " '24507300',\n",
       " '19201700',\n",
       " '26266200',\n",
       " '56331200',\n",
       " '42364300',\n",
       " '40654800',\n",
       " '32203300',\n",
       " '29726000',\n",
       " '139267100',\n",
       " '182759500',\n",
       " '48096700',\n",
       " '29407500',\n",
       " '46048200',\n",
       " '104732600',\n",
       " '42885000',\n",
       " '98506100',\n",
       " '33710400',\n",
       " '51794500',\n",
       " '27108600',\n",
       " '32789400',\n",
       " '69708100',\n",
       " '49739400',\n",
       " '189093100',\n",
       " '55410600',\n",
       " '53411800',\n",
       " '21870300',\n",
       " '185798900',\n",
       " '101135300',\n",
       " '29368400',\n",
       " '108945900',\n",
       " '36365100',\n",
       " '56517100',\n",
       " '79237200',\n",
       " '14246300',\n",
       " '106847300',\n",
       " '36162300',\n",
       " '43395500',\n",
       " '15781000',\n",
       " '59348900',\n",
       " '22434600',\n",
       " '32629000',\n",
       " '44205200',\n",
       " '224674100',\n",
       " '53164400',\n",
       " '86393300',\n",
       " '56505400',\n",
       " '53569400',\n",
       " '57010100',\n",
       " '45637200',\n",
       " '41344300',\n",
       " '20476500',\n",
       " '77821600',\n",
       " '111779500',\n",
       " '25145500',\n",
       " '147984200',\n",
       " '43694000',\n",
       " '21899500',\n",
       " ...}"
      ]
     },
     "execution_count": 69,
     "metadata": {},
     "output_type": "execute_result"
    }
   ],
   "source": [
    "volume = set(d['Volume'] for d in mpg)\n",
    "volume"
   ]
  },
  {
   "cell_type": "code",
   "execution_count": 71,
   "id": "76bb5080",
   "metadata": {},
   "outputs": [],
   "source": [
    "import datetime as dt\n",
    "import time as tm"
   ]
  },
  {
   "cell_type": "code",
   "execution_count": 72,
   "id": "88fa797b",
   "metadata": {},
   "outputs": [
    {
     "data": {
      "text/plain": [
       "1702996183.74"
      ]
     },
     "execution_count": 72,
     "metadata": {},
     "output_type": "execute_result"
    }
   ],
   "source": [
    "tm.time()"
   ]
  },
  {
   "cell_type": "code",
   "execution_count": 73,
   "id": "a5f61ab4",
   "metadata": {},
   "outputs": [
    {
     "data": {
      "text/plain": [
       "datetime.datetime(2023, 12, 19, 19, 31, 4, 798476)"
      ]
     },
     "execution_count": 73,
     "metadata": {},
     "output_type": "execute_result"
    }
   ],
   "source": [
    "dtnow = dt.datetime.fromtimestamp(tm.time())\n",
    "dtnow"
   ]
  },
  {
   "cell_type": "code",
   "execution_count": 74,
   "id": "73a2e108",
   "metadata": {},
   "outputs": [
    {
     "data": {
      "text/plain": [
       "(2023, 12, 19, 19, 31, 4)"
      ]
     },
     "execution_count": 74,
     "metadata": {},
     "output_type": "execute_result"
    }
   ],
   "source": [
    "dtnow.year, dtnow.month, dtnow.day, dtnow.hour, dtnow.minute, dtnow.second"
   ]
  },
  {
   "cell_type": "code",
   "execution_count": 75,
   "id": "64ec7145",
   "metadata": {},
   "outputs": [
    {
     "data": {
      "text/plain": [
       "datetime.timedelta(days=100)"
      ]
     },
     "execution_count": 75,
     "metadata": {},
     "output_type": "execute_result"
    }
   ],
   "source": [
    "delta = dt.timedelta(days=100) # create a timedelta of 100 days\n",
    "delta"
   ]
  },
  {
   "cell_type": "code",
   "execution_count": 76,
   "id": "d5a6f124",
   "metadata": {},
   "outputs": [],
   "source": [
    "today = dt.date.today()"
   ]
  },
  {
   "cell_type": "code",
   "execution_count": 77,
   "id": "41439fd6",
   "metadata": {},
   "outputs": [
    {
     "data": {
      "text/plain": [
       "datetime.date(2023, 9, 10)"
      ]
     },
     "execution_count": 77,
     "metadata": {},
     "output_type": "execute_result"
    }
   ],
   "source": [
    "today - delta # the date 100 days ago"
   ]
  },
  {
   "cell_type": "code",
   "execution_count": 78,
   "id": "4d58ad2d",
   "metadata": {},
   "outputs": [
    {
     "data": {
      "text/plain": [
       "True"
      ]
     },
     "execution_count": 78,
     "metadata": {},
     "output_type": "execute_result"
    }
   ],
   "source": [
    "today > today - delta # compare dates"
   ]
  },
  {
   "cell_type": "code",
   "execution_count": 79,
   "id": "89e3b32b",
   "metadata": {},
   "outputs": [],
   "source": [
    "class Person:\n",
    "    department = 'School of Information' #a class variable\n",
    "    \n",
    "    \n",
    "    def set_name(self, new_name): #a method\n",
    "        self.name = new_name\n",
    "        \n",
    "    def set_location(self, new_location):\n",
    "        self.location = new_location"
   ]
  },
  {
   "cell_type": "code",
   "execution_count": 80,
   "id": "2d3b7416",
   "metadata": {},
   "outputs": [
    {
     "name": "stdout",
     "output_type": "stream",
     "text": [
      "Christopher Brooks live in Ann Arbor, MI, USA and works in the department School of Information\n"
     ]
    }
   ],
   "source": [
    "person = Person()\n",
    "person.set_name('Christopher Brooks')\n",
    "person.set_location('Ann Arbor, MI, USA')\n",
    "print('{} live in {} and works in the department {}'.format(person.name, person.location, person.department))"
   ]
  },
  {
   "cell_type": "code",
   "execution_count": 82,
   "id": "389b21d6",
   "metadata": {},
   "outputs": [
    {
     "data": {
      "text/plain": [
       "<map at 0x7ff408f075e0>"
      ]
     },
     "execution_count": 82,
     "metadata": {},
     "output_type": "execute_result"
    }
   ],
   "source": [
    "store1 = [10.00, 11.00, 12.34, 2.34]\n",
    "store2 = [9.00, 11.10, 12.34, 2.01]\n",
    "cheapest = map(min, store1, store2)\n",
    "cheapest"
   ]
  },
  {
   "cell_type": "code",
   "execution_count": 83,
   "id": "92316ddc",
   "metadata": {},
   "outputs": [
    {
     "name": "stdout",
     "output_type": "stream",
     "text": [
      "9.0\n",
      "11.0\n",
      "12.34\n",
      "2.01\n"
     ]
    }
   ],
   "source": [
    "for item in cheapest:\n",
    "    print(item)"
   ]
  },
  {
   "cell_type": "code",
   "execution_count": 84,
   "id": "b786e73b",
   "metadata": {},
   "outputs": [],
   "source": [
    "my_function = lambda a, b, c: a +b"
   ]
  },
  {
   "cell_type": "code",
   "execution_count": 85,
   "id": "858d921c",
   "metadata": {},
   "outputs": [
    {
     "data": {
      "text/plain": [
       "3"
      ]
     },
     "execution_count": 85,
     "metadata": {},
     "output_type": "execute_result"
    }
   ],
   "source": [
    "my_function(1, 2, 3)"
   ]
  },
  {
   "cell_type": "code",
   "execution_count": 86,
   "id": "1054f918",
   "metadata": {},
   "outputs": [
    {
     "data": {
      "text/plain": [
       "[0,\n",
       " 2,\n",
       " 4,\n",
       " 6,\n",
       " 8,\n",
       " 10,\n",
       " 12,\n",
       " 14,\n",
       " 16,\n",
       " 18,\n",
       " 20,\n",
       " 22,\n",
       " 24,\n",
       " 26,\n",
       " 28,\n",
       " 30,\n",
       " 32,\n",
       " 34,\n",
       " 36,\n",
       " 38,\n",
       " 40,\n",
       " 42,\n",
       " 44,\n",
       " 46,\n",
       " 48,\n",
       " 50,\n",
       " 52,\n",
       " 54,\n",
       " 56,\n",
       " 58,\n",
       " 60,\n",
       " 62,\n",
       " 64,\n",
       " 66,\n",
       " 68,\n",
       " 70,\n",
       " 72,\n",
       " 74,\n",
       " 76,\n",
       " 78,\n",
       " 80,\n",
       " 82,\n",
       " 84,\n",
       " 86,\n",
       " 88,\n",
       " 90,\n",
       " 92,\n",
       " 94,\n",
       " 96,\n",
       " 98,\n",
       " 100,\n",
       " 102,\n",
       " 104,\n",
       " 106,\n",
       " 108,\n",
       " 110,\n",
       " 112,\n",
       " 114,\n",
       " 116,\n",
       " 118,\n",
       " 120,\n",
       " 122,\n",
       " 124,\n",
       " 126,\n",
       " 128,\n",
       " 130,\n",
       " 132,\n",
       " 134,\n",
       " 136,\n",
       " 138,\n",
       " 140,\n",
       " 142,\n",
       " 144,\n",
       " 146,\n",
       " 148,\n",
       " 150,\n",
       " 152,\n",
       " 154,\n",
       " 156,\n",
       " 158,\n",
       " 160,\n",
       " 162,\n",
       " 164,\n",
       " 166,\n",
       " 168,\n",
       " 170,\n",
       " 172,\n",
       " 174,\n",
       " 176,\n",
       " 178,\n",
       " 180,\n",
       " 182,\n",
       " 184,\n",
       " 186,\n",
       " 188,\n",
       " 190,\n",
       " 192,\n",
       " 194,\n",
       " 196,\n",
       " 198,\n",
       " 200,\n",
       " 202,\n",
       " 204,\n",
       " 206,\n",
       " 208,\n",
       " 210,\n",
       " 212,\n",
       " 214,\n",
       " 216,\n",
       " 218,\n",
       " 220,\n",
       " 222,\n",
       " 224,\n",
       " 226,\n",
       " 228,\n",
       " 230,\n",
       " 232,\n",
       " 234,\n",
       " 236,\n",
       " 238,\n",
       " 240,\n",
       " 242,\n",
       " 244,\n",
       " 246,\n",
       " 248,\n",
       " 250,\n",
       " 252,\n",
       " 254,\n",
       " 256,\n",
       " 258,\n",
       " 260,\n",
       " 262,\n",
       " 264,\n",
       " 266,\n",
       " 268,\n",
       " 270,\n",
       " 272,\n",
       " 274,\n",
       " 276,\n",
       " 278,\n",
       " 280,\n",
       " 282,\n",
       " 284,\n",
       " 286,\n",
       " 288,\n",
       " 290,\n",
       " 292,\n",
       " 294,\n",
       " 296,\n",
       " 298,\n",
       " 300,\n",
       " 302,\n",
       " 304,\n",
       " 306,\n",
       " 308,\n",
       " 310,\n",
       " 312,\n",
       " 314,\n",
       " 316,\n",
       " 318,\n",
       " 320,\n",
       " 322,\n",
       " 324,\n",
       " 326,\n",
       " 328,\n",
       " 330,\n",
       " 332,\n",
       " 334,\n",
       " 336,\n",
       " 338,\n",
       " 340,\n",
       " 342,\n",
       " 344,\n",
       " 346,\n",
       " 348,\n",
       " 350,\n",
       " 352,\n",
       " 354,\n",
       " 356,\n",
       " 358,\n",
       " 360,\n",
       " 362,\n",
       " 364,\n",
       " 366,\n",
       " 368,\n",
       " 370,\n",
       " 372,\n",
       " 374,\n",
       " 376,\n",
       " 378,\n",
       " 380,\n",
       " 382,\n",
       " 384,\n",
       " 386,\n",
       " 388,\n",
       " 390,\n",
       " 392,\n",
       " 394,\n",
       " 396,\n",
       " 398,\n",
       " 400,\n",
       " 402,\n",
       " 404,\n",
       " 406,\n",
       " 408,\n",
       " 410,\n",
       " 412,\n",
       " 414,\n",
       " 416,\n",
       " 418,\n",
       " 420,\n",
       " 422,\n",
       " 424,\n",
       " 426,\n",
       " 428,\n",
       " 430,\n",
       " 432,\n",
       " 434,\n",
       " 436,\n",
       " 438,\n",
       " 440,\n",
       " 442,\n",
       " 444,\n",
       " 446,\n",
       " 448,\n",
       " 450,\n",
       " 452,\n",
       " 454,\n",
       " 456,\n",
       " 458,\n",
       " 460,\n",
       " 462,\n",
       " 464,\n",
       " 466,\n",
       " 468,\n",
       " 470,\n",
       " 472,\n",
       " 474,\n",
       " 476,\n",
       " 478,\n",
       " 480,\n",
       " 482,\n",
       " 484,\n",
       " 486,\n",
       " 488,\n",
       " 490,\n",
       " 492,\n",
       " 494,\n",
       " 496,\n",
       " 498,\n",
       " 500,\n",
       " 502,\n",
       " 504,\n",
       " 506,\n",
       " 508,\n",
       " 510,\n",
       " 512,\n",
       " 514,\n",
       " 516,\n",
       " 518,\n",
       " 520,\n",
       " 522,\n",
       " 524,\n",
       " 526,\n",
       " 528,\n",
       " 530,\n",
       " 532,\n",
       " 534,\n",
       " 536,\n",
       " 538,\n",
       " 540,\n",
       " 542,\n",
       " 544,\n",
       " 546,\n",
       " 548,\n",
       " 550,\n",
       " 552,\n",
       " 554,\n",
       " 556,\n",
       " 558,\n",
       " 560,\n",
       " 562,\n",
       " 564,\n",
       " 566,\n",
       " 568,\n",
       " 570,\n",
       " 572,\n",
       " 574,\n",
       " 576,\n",
       " 578,\n",
       " 580,\n",
       " 582,\n",
       " 584,\n",
       " 586,\n",
       " 588,\n",
       " 590,\n",
       " 592,\n",
       " 594,\n",
       " 596,\n",
       " 598,\n",
       " 600,\n",
       " 602,\n",
       " 604,\n",
       " 606,\n",
       " 608,\n",
       " 610,\n",
       " 612,\n",
       " 614,\n",
       " 616,\n",
       " 618,\n",
       " 620,\n",
       " 622,\n",
       " 624,\n",
       " 626,\n",
       " 628,\n",
       " 630,\n",
       " 632,\n",
       " 634,\n",
       " 636,\n",
       " 638,\n",
       " 640,\n",
       " 642,\n",
       " 644,\n",
       " 646,\n",
       " 648,\n",
       " 650,\n",
       " 652,\n",
       " 654,\n",
       " 656,\n",
       " 658,\n",
       " 660,\n",
       " 662,\n",
       " 664,\n",
       " 666,\n",
       " 668,\n",
       " 670,\n",
       " 672,\n",
       " 674,\n",
       " 676,\n",
       " 678,\n",
       " 680,\n",
       " 682,\n",
       " 684,\n",
       " 686,\n",
       " 688,\n",
       " 690,\n",
       " 692,\n",
       " 694,\n",
       " 696,\n",
       " 698,\n",
       " 700,\n",
       " 702,\n",
       " 704,\n",
       " 706,\n",
       " 708,\n",
       " 710,\n",
       " 712,\n",
       " 714,\n",
       " 716,\n",
       " 718,\n",
       " 720,\n",
       " 722,\n",
       " 724,\n",
       " 726,\n",
       " 728,\n",
       " 730,\n",
       " 732,\n",
       " 734,\n",
       " 736,\n",
       " 738,\n",
       " 740,\n",
       " 742,\n",
       " 744,\n",
       " 746,\n",
       " 748,\n",
       " 750,\n",
       " 752,\n",
       " 754,\n",
       " 756,\n",
       " 758,\n",
       " 760,\n",
       " 762,\n",
       " 764,\n",
       " 766,\n",
       " 768,\n",
       " 770,\n",
       " 772,\n",
       " 774,\n",
       " 776,\n",
       " 778,\n",
       " 780,\n",
       " 782,\n",
       " 784,\n",
       " 786,\n",
       " 788,\n",
       " 790,\n",
       " 792,\n",
       " 794,\n",
       " 796,\n",
       " 798,\n",
       " 800,\n",
       " 802,\n",
       " 804,\n",
       " 806,\n",
       " 808,\n",
       " 810,\n",
       " 812,\n",
       " 814,\n",
       " 816,\n",
       " 818,\n",
       " 820,\n",
       " 822,\n",
       " 824,\n",
       " 826,\n",
       " 828,\n",
       " 830,\n",
       " 832,\n",
       " 834,\n",
       " 836,\n",
       " 838,\n",
       " 840,\n",
       " 842,\n",
       " 844,\n",
       " 846,\n",
       " 848,\n",
       " 850,\n",
       " 852,\n",
       " 854,\n",
       " 856,\n",
       " 858,\n",
       " 860,\n",
       " 862,\n",
       " 864,\n",
       " 866,\n",
       " 868,\n",
       " 870,\n",
       " 872,\n",
       " 874,\n",
       " 876,\n",
       " 878,\n",
       " 880,\n",
       " 882,\n",
       " 884,\n",
       " 886,\n",
       " 888,\n",
       " 890,\n",
       " 892,\n",
       " 894,\n",
       " 896,\n",
       " 898,\n",
       " 900,\n",
       " 902,\n",
       " 904,\n",
       " 906,\n",
       " 908,\n",
       " 910,\n",
       " 912,\n",
       " 914,\n",
       " 916,\n",
       " 918,\n",
       " 920,\n",
       " 922,\n",
       " 924,\n",
       " 926,\n",
       " 928,\n",
       " 930,\n",
       " 932,\n",
       " 934,\n",
       " 936,\n",
       " 938,\n",
       " 940,\n",
       " 942,\n",
       " 944,\n",
       " 946,\n",
       " 948,\n",
       " 950,\n",
       " 952,\n",
       " 954,\n",
       " 956,\n",
       " 958,\n",
       " 960,\n",
       " 962,\n",
       " 964,\n",
       " 966,\n",
       " 968,\n",
       " 970,\n",
       " 972,\n",
       " 974,\n",
       " 976,\n",
       " 978,\n",
       " 980,\n",
       " 982,\n",
       " 984,\n",
       " 986,\n",
       " 988,\n",
       " 990,\n",
       " 992,\n",
       " 994,\n",
       " 996,\n",
       " 998]"
      ]
     },
     "execution_count": 86,
     "metadata": {},
     "output_type": "execute_result"
    }
   ],
   "source": [
    "my_list = []\n",
    "for number in range(0, 1000):\n",
    "    if number % 2 == 0:\n",
    "        my_list.append(number)\n",
    "my_list        "
   ]
  },
  {
   "cell_type": "code",
   "execution_count": 87,
   "id": "0405e316",
   "metadata": {},
   "outputs": [
    {
     "data": {
      "text/plain": [
       "[0,\n",
       " 2,\n",
       " 4,\n",
       " 6,\n",
       " 8,\n",
       " 10,\n",
       " 12,\n",
       " 14,\n",
       " 16,\n",
       " 18,\n",
       " 20,\n",
       " 22,\n",
       " 24,\n",
       " 26,\n",
       " 28,\n",
       " 30,\n",
       " 32,\n",
       " 34,\n",
       " 36,\n",
       " 38,\n",
       " 40,\n",
       " 42,\n",
       " 44,\n",
       " 46,\n",
       " 48,\n",
       " 50,\n",
       " 52,\n",
       " 54,\n",
       " 56,\n",
       " 58,\n",
       " 60,\n",
       " 62,\n",
       " 64,\n",
       " 66,\n",
       " 68,\n",
       " 70,\n",
       " 72,\n",
       " 74,\n",
       " 76,\n",
       " 78,\n",
       " 80,\n",
       " 82,\n",
       " 84,\n",
       " 86,\n",
       " 88,\n",
       " 90,\n",
       " 92,\n",
       " 94,\n",
       " 96,\n",
       " 98,\n",
       " 100,\n",
       " 102,\n",
       " 104,\n",
       " 106,\n",
       " 108,\n",
       " 110,\n",
       " 112,\n",
       " 114,\n",
       " 116,\n",
       " 118,\n",
       " 120,\n",
       " 122,\n",
       " 124,\n",
       " 126,\n",
       " 128,\n",
       " 130,\n",
       " 132,\n",
       " 134,\n",
       " 136,\n",
       " 138,\n",
       " 140,\n",
       " 142,\n",
       " 144,\n",
       " 146,\n",
       " 148,\n",
       " 150,\n",
       " 152,\n",
       " 154,\n",
       " 156,\n",
       " 158,\n",
       " 160,\n",
       " 162,\n",
       " 164,\n",
       " 166,\n",
       " 168,\n",
       " 170,\n",
       " 172,\n",
       " 174,\n",
       " 176,\n",
       " 178,\n",
       " 180,\n",
       " 182,\n",
       " 184,\n",
       " 186,\n",
       " 188,\n",
       " 190,\n",
       " 192,\n",
       " 194,\n",
       " 196,\n",
       " 198,\n",
       " 200,\n",
       " 202,\n",
       " 204,\n",
       " 206,\n",
       " 208,\n",
       " 210,\n",
       " 212,\n",
       " 214,\n",
       " 216,\n",
       " 218,\n",
       " 220,\n",
       " 222,\n",
       " 224,\n",
       " 226,\n",
       " 228,\n",
       " 230,\n",
       " 232,\n",
       " 234,\n",
       " 236,\n",
       " 238,\n",
       " 240,\n",
       " 242,\n",
       " 244,\n",
       " 246,\n",
       " 248,\n",
       " 250,\n",
       " 252,\n",
       " 254,\n",
       " 256,\n",
       " 258,\n",
       " 260,\n",
       " 262,\n",
       " 264,\n",
       " 266,\n",
       " 268,\n",
       " 270,\n",
       " 272,\n",
       " 274,\n",
       " 276,\n",
       " 278,\n",
       " 280,\n",
       " 282,\n",
       " 284,\n",
       " 286,\n",
       " 288,\n",
       " 290,\n",
       " 292,\n",
       " 294,\n",
       " 296,\n",
       " 298,\n",
       " 300,\n",
       " 302,\n",
       " 304,\n",
       " 306,\n",
       " 308,\n",
       " 310,\n",
       " 312,\n",
       " 314,\n",
       " 316,\n",
       " 318,\n",
       " 320,\n",
       " 322,\n",
       " 324,\n",
       " 326,\n",
       " 328,\n",
       " 330,\n",
       " 332,\n",
       " 334,\n",
       " 336,\n",
       " 338,\n",
       " 340,\n",
       " 342,\n",
       " 344,\n",
       " 346,\n",
       " 348,\n",
       " 350,\n",
       " 352,\n",
       " 354,\n",
       " 356,\n",
       " 358,\n",
       " 360,\n",
       " 362,\n",
       " 364,\n",
       " 366,\n",
       " 368,\n",
       " 370,\n",
       " 372,\n",
       " 374,\n",
       " 376,\n",
       " 378,\n",
       " 380,\n",
       " 382,\n",
       " 384,\n",
       " 386,\n",
       " 388,\n",
       " 390,\n",
       " 392,\n",
       " 394,\n",
       " 396,\n",
       " 398,\n",
       " 400,\n",
       " 402,\n",
       " 404,\n",
       " 406,\n",
       " 408,\n",
       " 410,\n",
       " 412,\n",
       " 414,\n",
       " 416,\n",
       " 418,\n",
       " 420,\n",
       " 422,\n",
       " 424,\n",
       " 426,\n",
       " 428,\n",
       " 430,\n",
       " 432,\n",
       " 434,\n",
       " 436,\n",
       " 438,\n",
       " 440,\n",
       " 442,\n",
       " 444,\n",
       " 446,\n",
       " 448,\n",
       " 450,\n",
       " 452,\n",
       " 454,\n",
       " 456,\n",
       " 458,\n",
       " 460,\n",
       " 462,\n",
       " 464,\n",
       " 466,\n",
       " 468,\n",
       " 470,\n",
       " 472,\n",
       " 474,\n",
       " 476,\n",
       " 478,\n",
       " 480,\n",
       " 482,\n",
       " 484,\n",
       " 486,\n",
       " 488,\n",
       " 490,\n",
       " 492,\n",
       " 494,\n",
       " 496,\n",
       " 498,\n",
       " 500,\n",
       " 502,\n",
       " 504,\n",
       " 506,\n",
       " 508,\n",
       " 510,\n",
       " 512,\n",
       " 514,\n",
       " 516,\n",
       " 518,\n",
       " 520,\n",
       " 522,\n",
       " 524,\n",
       " 526,\n",
       " 528,\n",
       " 530,\n",
       " 532,\n",
       " 534,\n",
       " 536,\n",
       " 538,\n",
       " 540,\n",
       " 542,\n",
       " 544,\n",
       " 546,\n",
       " 548,\n",
       " 550,\n",
       " 552,\n",
       " 554,\n",
       " 556,\n",
       " 558,\n",
       " 560,\n",
       " 562,\n",
       " 564,\n",
       " 566,\n",
       " 568,\n",
       " 570,\n",
       " 572,\n",
       " 574,\n",
       " 576,\n",
       " 578,\n",
       " 580,\n",
       " 582,\n",
       " 584,\n",
       " 586,\n",
       " 588,\n",
       " 590,\n",
       " 592,\n",
       " 594,\n",
       " 596,\n",
       " 598,\n",
       " 600,\n",
       " 602,\n",
       " 604,\n",
       " 606,\n",
       " 608,\n",
       " 610,\n",
       " 612,\n",
       " 614,\n",
       " 616,\n",
       " 618,\n",
       " 620,\n",
       " 622,\n",
       " 624,\n",
       " 626,\n",
       " 628,\n",
       " 630,\n",
       " 632,\n",
       " 634,\n",
       " 636,\n",
       " 638,\n",
       " 640,\n",
       " 642,\n",
       " 644,\n",
       " 646,\n",
       " 648,\n",
       " 650,\n",
       " 652,\n",
       " 654,\n",
       " 656,\n",
       " 658,\n",
       " 660,\n",
       " 662,\n",
       " 664,\n",
       " 666,\n",
       " 668,\n",
       " 670,\n",
       " 672,\n",
       " 674,\n",
       " 676,\n",
       " 678,\n",
       " 680,\n",
       " 682,\n",
       " 684,\n",
       " 686,\n",
       " 688,\n",
       " 690,\n",
       " 692,\n",
       " 694,\n",
       " 696,\n",
       " 698,\n",
       " 700,\n",
       " 702,\n",
       " 704,\n",
       " 706,\n",
       " 708,\n",
       " 710,\n",
       " 712,\n",
       " 714,\n",
       " 716,\n",
       " 718,\n",
       " 720,\n",
       " 722,\n",
       " 724,\n",
       " 726,\n",
       " 728,\n",
       " 730,\n",
       " 732,\n",
       " 734,\n",
       " 736,\n",
       " 738,\n",
       " 740,\n",
       " 742,\n",
       " 744,\n",
       " 746,\n",
       " 748,\n",
       " 750,\n",
       " 752,\n",
       " 754,\n",
       " 756,\n",
       " 758,\n",
       " 760,\n",
       " 762,\n",
       " 764,\n",
       " 766,\n",
       " 768,\n",
       " 770,\n",
       " 772,\n",
       " 774,\n",
       " 776,\n",
       " 778,\n",
       " 780,\n",
       " 782,\n",
       " 784,\n",
       " 786,\n",
       " 788,\n",
       " 790,\n",
       " 792,\n",
       " 794,\n",
       " 796,\n",
       " 798,\n",
       " 800,\n",
       " 802,\n",
       " 804,\n",
       " 806,\n",
       " 808,\n",
       " 810,\n",
       " 812,\n",
       " 814,\n",
       " 816,\n",
       " 818,\n",
       " 820,\n",
       " 822,\n",
       " 824,\n",
       " 826,\n",
       " 828,\n",
       " 830,\n",
       " 832,\n",
       " 834,\n",
       " 836,\n",
       " 838,\n",
       " 840,\n",
       " 842,\n",
       " 844,\n",
       " 846,\n",
       " 848,\n",
       " 850,\n",
       " 852,\n",
       " 854,\n",
       " 856,\n",
       " 858,\n",
       " 860,\n",
       " 862,\n",
       " 864,\n",
       " 866,\n",
       " 868,\n",
       " 870,\n",
       " 872,\n",
       " 874,\n",
       " 876,\n",
       " 878,\n",
       " 880,\n",
       " 882,\n",
       " 884,\n",
       " 886,\n",
       " 888,\n",
       " 890,\n",
       " 892,\n",
       " 894,\n",
       " 896,\n",
       " 898,\n",
       " 900,\n",
       " 902,\n",
       " 904,\n",
       " 906,\n",
       " 908,\n",
       " 910,\n",
       " 912,\n",
       " 914,\n",
       " 916,\n",
       " 918,\n",
       " 920,\n",
       " 922,\n",
       " 924,\n",
       " 926,\n",
       " 928,\n",
       " 930,\n",
       " 932,\n",
       " 934,\n",
       " 936,\n",
       " 938,\n",
       " 940,\n",
       " 942,\n",
       " 944,\n",
       " 946,\n",
       " 948,\n",
       " 950,\n",
       " 952,\n",
       " 954,\n",
       " 956,\n",
       " 958,\n",
       " 960,\n",
       " 962,\n",
       " 964,\n",
       " 966,\n",
       " 968,\n",
       " 970,\n",
       " 972,\n",
       " 974,\n",
       " 976,\n",
       " 978,\n",
       " 980,\n",
       " 982,\n",
       " 984,\n",
       " 986,\n",
       " 988,\n",
       " 990,\n",
       " 992,\n",
       " 994,\n",
       " 996,\n",
       " 998]"
      ]
     },
     "execution_count": 87,
     "metadata": {},
     "output_type": "execute_result"
    }
   ],
   "source": [
    "my_list = [number for number in range(0, 1000) if number % 2 == 0]\n",
    "my_list"
   ]
  },
  {
   "cell_type": "code",
   "execution_count": null,
   "id": "991ee94c",
   "metadata": {},
   "outputs": [],
   "source": []
  },
  {
   "cell_type": "code",
   "execution_count": null,
   "id": "2448632f",
   "metadata": {},
   "outputs": [],
   "source": []
  },
  {
   "cell_type": "code",
   "execution_count": null,
   "id": "4742a81e",
   "metadata": {},
   "outputs": [],
   "source": []
  }
 ],
 "metadata": {
  "kernelspec": {
   "display_name": "Python 3 (ipykernel)",
   "language": "python",
   "name": "python3"
  },
  "language_info": {
   "codemirror_mode": {
    "name": "ipython",
    "version": 3
   },
   "file_extension": ".py",
   "mimetype": "text/x-python",
   "name": "python",
   "nbconvert_exporter": "python",
   "pygments_lexer": "ipython3",
   "version": "3.9.12"
  }
 },
 "nbformat": 4,
 "nbformat_minor": 5
}
