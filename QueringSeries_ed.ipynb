{
  "nbformat": 4,
  "nbformat_minor": 0,
  "metadata": {
    "colab": {
      "provenance": []
    },
    "kernelspec": {
      "name": "python3",
      "display_name": "Python 3"
    },
    "language_info": {
      "name": "python"
    }
  },
  "cells": [
    {
      "cell_type": "markdown",
      "source": [
        "# Querying `Series`\n",
        "\n",
        "In this lecture, we'll talk about one of the primary data types of the Pandas library, the Series. You'll learn about the structure of the Series, how to query and merge Series objects together, and the importance of thinking about parallelization when engaging in data science programming."
      ],
      "metadata": {
        "id": "tMfBLa3KkPeh"
      }
    },
    {
      "cell_type": "code",
      "execution_count": 1,
      "metadata": {
        "id": "0PSI5wuhj6_W",
        "colab": {
          "base_uri": "https://localhost:8080/"
        },
        "outputId": "fca52a67-f916-41e2-e15c-be5cc70dbbcb"
      },
      "outputs": [
        {
          "output_type": "execute_result",
          "data": {
            "text/plain": [
              "Alice      Physics\n",
              "Jack     Chemistry\n",
              "Molly      English\n",
              "Sam        History\n",
              "dtype: object"
            ]
          },
          "metadata": {},
          "execution_count": 1
        }
      ],
      "source": [
        "# A pandas Series can be queried either by the index position or the index label. If you don't give an\n",
        "# index to the series when querying, the position and the label are effectively the same values. To\n",
        "# query by numeric location, starting at zero, use the iloc attribute. To query by the index label,\n",
        "# you can use the loc attribute.\n",
        "\n",
        "# Lets start with an example. We'll use students enrolled in classes coming from a dictionary\n",
        "import pandas as pd\n",
        "students_classes = {\n",
        "    \"Alice\": \"Physics\",\n",
        "    \"Jack\": \"Chemistry\",\n",
        "    \"Molly\": \"English\",\n",
        "    \"Sam\": \"History\" }\n",
        "s = pd.Series(students_classes)\n",
        "s"
      ]
    },
    {
      "cell_type": "code",
      "source": [
        "# So, for this series, if you wanted to see the fourth entry we would we would use the iloc\n",
        "# attribute with the parameter 3.\n",
        "s.iloc[3]"
      ],
      "metadata": {
        "colab": {
          "base_uri": "https://localhost:8080/",
          "height": 35
        },
        "id": "NC59zSRUkP41",
        "outputId": "1f8a9ac2-0132-4585-ee42-4c73939c2082"
      },
      "execution_count": 2,
      "outputs": [
        {
          "output_type": "execute_result",
          "data": {
            "text/plain": [
              "'History'"
            ],
            "application/vnd.google.colaboratory.intrinsic+json": {
              "type": "string"
            }
          },
          "metadata": {},
          "execution_count": 2
        }
      ]
    },
    {
      "cell_type": "code",
      "source": [
        "# If you wanted to see what class Molly has, we would use the loc attribute with a parameter\n",
        "# of Molly.\n",
        "s.loc[\"Molly\"]"
      ],
      "metadata": {
        "colab": {
          "base_uri": "https://localhost:8080/",
          "height": 35
        },
        "id": "bF9v-1wplEa4",
        "outputId": "7441b0b3-4e19-4196-dc9a-01c3ea66b64b"
      },
      "execution_count": 3,
      "outputs": [
        {
          "output_type": "execute_result",
          "data": {
            "text/plain": [
              "'English'"
            ],
            "application/vnd.google.colaboratory.intrinsic+json": {
              "type": "string"
            }
          },
          "metadata": {},
          "execution_count": 3
        }
      ]
    },
    {
      "cell_type": "code",
      "source": [
        "# Keep in mind that iloc and loc are not methods, they are attributes. So you don't use\n",
        "# parentheses to query them, but square brackets instead, which is called the indexing operator.\n",
        "# In Python this calls get or set for an item depending on the context of its use.\n",
        "\n",
        "# This might seem a bit confusing if you're used to languages where encapsulation of attributes,\n",
        "# variables, and properties is common, such as in Java."
      ],
      "metadata": {
        "id": "bpP93FcClEeL"
      },
      "execution_count": 4,
      "outputs": []
    },
    {
      "cell_type": "code",
      "source": [
        "# Pandas tries to make our code a bit more readable and provides a sort of smart syntax using\n",
        "# the indexing operator directly on the series itself. For instance, if you pass in an integer parameter,\n",
        "# the operator will behave as if you want it to query via the iloc attribute\n",
        "s[3]"
      ],
      "metadata": {
        "colab": {
          "base_uri": "https://localhost:8080/",
          "height": 35
        },
        "id": "YEkK7OgqlEhC",
        "outputId": "1bd75b84-b044-486e-9f76-343617c36d46"
      },
      "execution_count": 6,
      "outputs": [
        {
          "output_type": "execute_result",
          "data": {
            "text/plain": [
              "'History'"
            ],
            "application/vnd.google.colaboratory.intrinsic+json": {
              "type": "string"
            }
          },
          "metadata": {},
          "execution_count": 6
        }
      ]
    },
    {
      "cell_type": "code",
      "source": [
        "# If you pass in an object, it will query as if you wanted to use the label based loc attribute.\n",
        "s[\"Molly\"]"
      ],
      "metadata": {
        "colab": {
          "base_uri": "https://localhost:8080/",
          "height": 35
        },
        "id": "MAQG-TvQlEjo",
        "outputId": "a935611c-8dd0-4914-fe26-848c891225b5"
      },
      "execution_count": 7,
      "outputs": [
        {
          "output_type": "execute_result",
          "data": {
            "text/plain": [
              "'English'"
            ],
            "application/vnd.google.colaboratory.intrinsic+json": {
              "type": "string"
            }
          },
          "metadata": {},
          "execution_count": 7
        }
      ]
    },
    {
      "cell_type": "code",
      "source": [
        "# So what happens if your index is a list of integers? This is a bit complicated and Pandas can't\n",
        "# determine automatically whether you're intending to query by index position or index label. So\n",
        "# you need to be careful when using the indexing operator on the Series itself. The safer option\n",
        "# is to be more explicit and use the iloc or loc attributes directly.\n",
        "\n",
        "# Here's an example using class and their classcode information, where classes are indexed by\n",
        "# classcodes, in the form of integers\n",
        "class_code = { 99: \"Physics\",\n",
        "              100: \"Chemistry\",\n",
        "               101: \"English\",\n",
        "               102: \"History\"\n",
        "               }\n",
        "s = pd.Series(class_code)"
      ],
      "metadata": {
        "id": "hR4fy4-DlEmP"
      },
      "execution_count": 8,
      "outputs": []
    },
    {
      "cell_type": "code",
      "source": [
        "# If we try and call s[0] we get a key error because there's no item in the classes list with\n",
        "# an index of zero, instead we have to call iloc explicitly if we want the first item.\n",
        "\n",
        "s[0]"
      ],
      "metadata": {
        "colab": {
          "base_uri": "https://localhost:8080/",
          "height": 504
        },
        "id": "si7tRbg5lEoD",
        "outputId": "f05b7ea8-a3f4-4e4c-a3ad-f6850f5a5232"
      },
      "execution_count": 9,
      "outputs": [
        {
          "output_type": "error",
          "ename": "KeyError",
          "evalue": "ignored",
          "traceback": [
            "\u001b[0;31m---------------------------------------------------------------------------\u001b[0m",
            "\u001b[0;31mKeyError\u001b[0m                                  Traceback (most recent call last)",
            "\u001b[0;32m/usr/local/lib/python3.10/dist-packages/pandas/core/indexes/base.py\u001b[0m in \u001b[0;36mget_loc\u001b[0;34m(self, key, method, tolerance)\u001b[0m\n\u001b[1;32m   3801\u001b[0m             \u001b[0;32mtry\u001b[0m\u001b[0;34m:\u001b[0m\u001b[0;34m\u001b[0m\u001b[0;34m\u001b[0m\u001b[0m\n\u001b[0;32m-> 3802\u001b[0;31m                 \u001b[0;32mreturn\u001b[0m \u001b[0mself\u001b[0m\u001b[0;34m.\u001b[0m\u001b[0m_engine\u001b[0m\u001b[0;34m.\u001b[0m\u001b[0mget_loc\u001b[0m\u001b[0;34m(\u001b[0m\u001b[0mcasted_key\u001b[0m\u001b[0;34m)\u001b[0m\u001b[0;34m\u001b[0m\u001b[0;34m\u001b[0m\u001b[0m\n\u001b[0m\u001b[1;32m   3803\u001b[0m             \u001b[0;32mexcept\u001b[0m \u001b[0mKeyError\u001b[0m \u001b[0;32mas\u001b[0m \u001b[0merr\u001b[0m\u001b[0;34m:\u001b[0m\u001b[0;34m\u001b[0m\u001b[0;34m\u001b[0m\u001b[0m\n",
            "\u001b[0;32m/usr/local/lib/python3.10/dist-packages/pandas/_libs/index.pyx\u001b[0m in \u001b[0;36mpandas._libs.index.IndexEngine.get_loc\u001b[0;34m()\u001b[0m\n",
            "\u001b[0;32m/usr/local/lib/python3.10/dist-packages/pandas/_libs/index.pyx\u001b[0m in \u001b[0;36mpandas._libs.index.IndexEngine.get_loc\u001b[0;34m()\u001b[0m\n",
            "\u001b[0;32mpandas/_libs/hashtable_class_helper.pxi\u001b[0m in \u001b[0;36mpandas._libs.hashtable.Int64HashTable.get_item\u001b[0;34m()\u001b[0m\n",
            "\u001b[0;32mpandas/_libs/hashtable_class_helper.pxi\u001b[0m in \u001b[0;36mpandas._libs.hashtable.Int64HashTable.get_item\u001b[0;34m()\u001b[0m\n",
            "\u001b[0;31mKeyError\u001b[0m: 0",
            "\nThe above exception was the direct cause of the following exception:\n",
            "\u001b[0;31mKeyError\u001b[0m                                  Traceback (most recent call last)",
            "\u001b[0;32m<ipython-input-9-25dcb490ae44>\u001b[0m in \u001b[0;36m<cell line: 4>\u001b[0;34m()\u001b[0m\n\u001b[1;32m      2\u001b[0m \u001b[0;31m# an index of zero, instead we have to call iloc explicitly if we want the first item.\u001b[0m\u001b[0;34m\u001b[0m\u001b[0;34m\u001b[0m\u001b[0m\n\u001b[1;32m      3\u001b[0m \u001b[0;34m\u001b[0m\u001b[0m\n\u001b[0;32m----> 4\u001b[0;31m \u001b[0ms\u001b[0m\u001b[0;34m[\u001b[0m\u001b[0;36m0\u001b[0m\u001b[0;34m]\u001b[0m\u001b[0;34m\u001b[0m\u001b[0;34m\u001b[0m\u001b[0m\n\u001b[0m",
            "\u001b[0;32m/usr/local/lib/python3.10/dist-packages/pandas/core/series.py\u001b[0m in \u001b[0;36m__getitem__\u001b[0;34m(self, key)\u001b[0m\n\u001b[1;32m    979\u001b[0m \u001b[0;34m\u001b[0m\u001b[0m\n\u001b[1;32m    980\u001b[0m         \u001b[0;32melif\u001b[0m \u001b[0mkey_is_scalar\u001b[0m\u001b[0;34m:\u001b[0m\u001b[0;34m\u001b[0m\u001b[0;34m\u001b[0m\u001b[0m\n\u001b[0;32m--> 981\u001b[0;31m             \u001b[0;32mreturn\u001b[0m \u001b[0mself\u001b[0m\u001b[0;34m.\u001b[0m\u001b[0m_get_value\u001b[0m\u001b[0;34m(\u001b[0m\u001b[0mkey\u001b[0m\u001b[0;34m)\u001b[0m\u001b[0;34m\u001b[0m\u001b[0;34m\u001b[0m\u001b[0m\n\u001b[0m\u001b[1;32m    982\u001b[0m \u001b[0;34m\u001b[0m\u001b[0m\n\u001b[1;32m    983\u001b[0m         \u001b[0;32mif\u001b[0m \u001b[0mis_hashable\u001b[0m\u001b[0;34m(\u001b[0m\u001b[0mkey\u001b[0m\u001b[0;34m)\u001b[0m\u001b[0;34m:\u001b[0m\u001b[0;34m\u001b[0m\u001b[0;34m\u001b[0m\u001b[0m\n",
            "\u001b[0;32m/usr/local/lib/python3.10/dist-packages/pandas/core/series.py\u001b[0m in \u001b[0;36m_get_value\u001b[0;34m(self, label, takeable)\u001b[0m\n\u001b[1;32m   1087\u001b[0m \u001b[0;34m\u001b[0m\u001b[0m\n\u001b[1;32m   1088\u001b[0m         \u001b[0;31m# Similar to Index.get_value, but we do not fall back to positional\u001b[0m\u001b[0;34m\u001b[0m\u001b[0;34m\u001b[0m\u001b[0m\n\u001b[0;32m-> 1089\u001b[0;31m         \u001b[0mloc\u001b[0m \u001b[0;34m=\u001b[0m \u001b[0mself\u001b[0m\u001b[0;34m.\u001b[0m\u001b[0mindex\u001b[0m\u001b[0;34m.\u001b[0m\u001b[0mget_loc\u001b[0m\u001b[0;34m(\u001b[0m\u001b[0mlabel\u001b[0m\u001b[0;34m)\u001b[0m\u001b[0;34m\u001b[0m\u001b[0;34m\u001b[0m\u001b[0m\n\u001b[0m\u001b[1;32m   1090\u001b[0m         \u001b[0;32mreturn\u001b[0m \u001b[0mself\u001b[0m\u001b[0;34m.\u001b[0m\u001b[0mindex\u001b[0m\u001b[0;34m.\u001b[0m\u001b[0m_get_values_for_loc\u001b[0m\u001b[0;34m(\u001b[0m\u001b[0mself\u001b[0m\u001b[0;34m,\u001b[0m \u001b[0mloc\u001b[0m\u001b[0;34m,\u001b[0m \u001b[0mlabel\u001b[0m\u001b[0;34m)\u001b[0m\u001b[0;34m\u001b[0m\u001b[0;34m\u001b[0m\u001b[0m\n\u001b[1;32m   1091\u001b[0m \u001b[0;34m\u001b[0m\u001b[0m\n",
            "\u001b[0;32m/usr/local/lib/python3.10/dist-packages/pandas/core/indexes/base.py\u001b[0m in \u001b[0;36mget_loc\u001b[0;34m(self, key, method, tolerance)\u001b[0m\n\u001b[1;32m   3802\u001b[0m                 \u001b[0;32mreturn\u001b[0m \u001b[0mself\u001b[0m\u001b[0;34m.\u001b[0m\u001b[0m_engine\u001b[0m\u001b[0;34m.\u001b[0m\u001b[0mget_loc\u001b[0m\u001b[0;34m(\u001b[0m\u001b[0mcasted_key\u001b[0m\u001b[0;34m)\u001b[0m\u001b[0;34m\u001b[0m\u001b[0;34m\u001b[0m\u001b[0m\n\u001b[1;32m   3803\u001b[0m             \u001b[0;32mexcept\u001b[0m \u001b[0mKeyError\u001b[0m \u001b[0;32mas\u001b[0m \u001b[0merr\u001b[0m\u001b[0;34m:\u001b[0m\u001b[0;34m\u001b[0m\u001b[0;34m\u001b[0m\u001b[0m\n\u001b[0;32m-> 3804\u001b[0;31m                 \u001b[0;32mraise\u001b[0m \u001b[0mKeyError\u001b[0m\u001b[0;34m(\u001b[0m\u001b[0mkey\u001b[0m\u001b[0;34m)\u001b[0m \u001b[0;32mfrom\u001b[0m \u001b[0merr\u001b[0m\u001b[0;34m\u001b[0m\u001b[0;34m\u001b[0m\u001b[0m\n\u001b[0m\u001b[1;32m   3805\u001b[0m             \u001b[0;32mexcept\u001b[0m \u001b[0mTypeError\u001b[0m\u001b[0;34m:\u001b[0m\u001b[0;34m\u001b[0m\u001b[0;34m\u001b[0m\u001b[0m\n\u001b[1;32m   3806\u001b[0m                 \u001b[0;31m# If we have a listlike key, _check_indexing_error will raise\u001b[0m\u001b[0;34m\u001b[0m\u001b[0;34m\u001b[0m\u001b[0m\n",
            "\u001b[0;31mKeyError\u001b[0m: 0"
          ]
        }
      ]
    },
    {
      "cell_type": "code",
      "source": [
        "# So, that didn't call s.iloc[0] underneath as one might expect, instead it\n",
        "# generates an error"
      ],
      "metadata": {
        "id": "h_mXuykynSH-"
      },
      "execution_count": 10,
      "outputs": []
    },
    {
      "cell_type": "code",
      "source": [
        "# Now we know how to get data out of the series, let's talk about working with the data. A common\n",
        "# task is to want to consider all of the values inside of a series and do some sort of\n",
        "# operation. This could be trying to find a certain number, or summarizing data or transforming\n",
        "# the data in some way."
      ],
      "metadata": {
        "id": "67ybVpeonc7D"
      },
      "execution_count": 11,
      "outputs": []
    },
    {
      "cell_type": "code",
      "source": [
        "# Now we know how to get data out of the series, let's talk about working with the data. A common\n",
        "# task is to want to consider all of the values inside of a series and do some sort of\n",
        "# operation. This could be trying to find a certain number, or summarizing data or transforming\n",
        "# the data in some way."
      ],
      "metadata": {
        "id": "StmtXO_4nf-y"
      },
      "execution_count": 12,
      "outputs": []
    },
    {
      "cell_type": "code",
      "source": [
        "# A typical programmatic approach to this would be to iterate over all the items in the series,\n",
        "# and invoke the operation one is interested in. For instance, we could create a Series of\n",
        "# integers representing student grades, and just try and get an average grade\n",
        "\n",
        "grades = pd.Series([90, 80, 70, 60])\n",
        "\n",
        "total = 0\n",
        "for grade in grades:\n",
        "  total += grades\n",
        "print(total/len(grades))"
      ],
      "metadata": {
        "colab": {
          "base_uri": "https://localhost:8080/"
        },
        "id": "c0g_CQY1ngCq",
        "outputId": "ecee409f-45bd-46ad-b5ee-44acd066f131"
      },
      "execution_count": 14,
      "outputs": [
        {
          "output_type": "stream",
          "name": "stdout",
          "text": [
            "0    90.0\n",
            "1    80.0\n",
            "2    70.0\n",
            "3    60.0\n",
            "dtype: float64\n"
          ]
        }
      ]
    },
    {
      "cell_type": "code",
      "source": [
        "# This works, but it's slow. Modern computers can do many tasks simultaneously, especially,\n",
        "# but not only, tasks involving mathematics.\n",
        "\n",
        "# Pandas and the underlying numpy libraries support a method of computation called vectorization.\n",
        "# Vectorization works with most of the functions in the numpy library, including the sum function."
      ],
      "metadata": {
        "id": "C8TPsPGengFQ"
      },
      "execution_count": 15,
      "outputs": []
    },
    {
      "cell_type": "code",
      "source": [
        "# Here's how we would really write the code using the numpy sum method. First we need to import\n",
        "# the numpy module\n",
        "\n",
        "import numpy as np\n",
        "\n",
        "# Then we just call np.sum and pass in an iterable item. In this case, our panda series.\n",
        "\n",
        "total = np.sum(grades)\n",
        "print(total/len(grades))"
      ],
      "metadata": {
        "colab": {
          "base_uri": "https://localhost:8080/"
        },
        "id": "8tCGFXKMpIsf",
        "outputId": "e46efc89-7cb5-4ca6-e4df-1cdc86910a37"
      },
      "execution_count": 16,
      "outputs": [
        {
          "output_type": "stream",
          "name": "stdout",
          "text": [
            "75.0\n"
          ]
        }
      ]
    },
    {
      "cell_type": "code",
      "source": [
        "# Now both of these methods create the same value, but is one actually faster? The Jupyter\n",
        "# Notebook has a magic function which can help.\n",
        "\n",
        "# First, let's create a big series of random numbers. This is used a lot when demonstrating\n",
        "# techniques with Pandas\n",
        "numbers = pd.Series(np.random.randint(0, 1000, 10000))\n",
        "\n",
        "# Now lets look at the top five items in that series to make sure they actually seem random. We\n",
        "# can do this with the head() function\n",
        "numbers.head()"
      ],
      "metadata": {
        "colab": {
          "base_uri": "https://localhost:8080/"
        },
        "id": "HrLOT2fYpIvl",
        "outputId": "09e1f6e1-f966-4741-a658-64eec0a5b12c"
      },
      "execution_count": 17,
      "outputs": [
        {
          "output_type": "execute_result",
          "data": {
            "text/plain": [
              "0    776\n",
              "1    233\n",
              "2    387\n",
              "3    338\n",
              "4    968\n",
              "dtype: int64"
            ]
          },
          "metadata": {},
          "execution_count": 17
        }
      ]
    },
    {
      "cell_type": "code",
      "source": [
        "# We can actually verify that length of the series is correct using the len function\n",
        "len(numbers)"
      ],
      "metadata": {
        "colab": {
          "base_uri": "https://localhost:8080/"
        },
        "id": "GP-6r3ARpIyc",
        "outputId": "f65371c2-9d2f-4edb-bd8c-46af9db246c4"
      },
      "execution_count": 18,
      "outputs": [
        {
          "output_type": "execute_result",
          "data": {
            "text/plain": [
              "10000"
            ]
          },
          "metadata": {},
          "execution_count": 18
        }
      ]
    },
    {
      "cell_type": "code",
      "source": [
        "# Ok, we're confident now that we have a big series. The ipython interpreter has something called\n",
        "# magic functions begin with a percentage sign. If we type this sign and then hit the Tab key, you\n",
        "# can see a list of the available magic functions. You could write your own magic functions too,\n",
        "# but that's a little bit outside of the scope of this course."
      ],
      "metadata": {
        "id": "XIRTyvhtpI7T"
      },
      "execution_count": 19,
      "outputs": []
    },
    {
      "cell_type": "code",
      "source": [
        "# Here, we're actually going to use what's called a cellular magic function. These start with two\n",
        "# percentage signs and wrap the code in the current Jupyter cell. The function we're going to use\n",
        "# is called timeit. This function will run our code a few times to determine, on average, how long\n",
        "# it takes.\n",
        "\n",
        "# Let's run timeit with our original iterative code. You can give timeit the number of loops that\n",
        "# you would like to run. By default, it is 1,000 loops. I'll ask timeit here to use 100 runs because\n",
        "# we're recording this. Note that in order to use a cellular magic function, it has to be the first\n",
        "# line in the cell"
      ],
      "metadata": {
        "id": "Ok7CpqkgngH3"
      },
      "execution_count": 20,
      "outputs": []
    },
    {
      "cell_type": "code",
      "source": [
        "%%timeit -n 100\n",
        "total = 0\n",
        "for number in numbers:\n",
        "  total += number\n",
        "\n",
        "total/len(numbers)"
      ],
      "metadata": {
        "colab": {
          "base_uri": "https://localhost:8080/"
        },
        "id": "2c68SB7FngKd",
        "outputId": "5b8fe2f9-7222-4ce6-cbf4-f91b9ed2d5ac"
      },
      "execution_count": 22,
      "outputs": [
        {
          "output_type": "stream",
          "name": "stdout",
          "text": [
            "727 µs ± 21.1 µs per loop (mean ± std. dev. of 7 runs, 100 loops each)\n"
          ]
        }
      ]
    },
    {
      "cell_type": "code",
      "source": [
        "# Not bad. Timeit ran the code and it doesn't seem to take very long at all. Now let's try with\n",
        "# vectorization."
      ],
      "metadata": {
        "id": "FK7IiLlbngMj"
      },
      "execution_count": null,
      "outputs": []
    },
    {
      "cell_type": "code",
      "source": [
        "%%timeit -n 100\n",
        "total = np.sum(numbers)\n",
        "total/len(numbers)"
      ],
      "metadata": {
        "colab": {
          "base_uri": "https://localhost:8080/"
        },
        "id": "2S40-2uxsPpm",
        "outputId": "ab979fe0-2522-47d4-96e5-b9f88f48a2eb"
      },
      "execution_count": 23,
      "outputs": [
        {
          "output_type": "stream",
          "name": "stdout",
          "text": [
            "46.3 µs ± 15.5 µs per loop (mean ± std. dev. of 7 runs, 100 loops each)\n"
          ]
        }
      ]
    },
    {
      "cell_type": "code",
      "source": [
        "# Wow! This is a pretty shocking difference in the speed and demonstrates why one should be\n",
        "# aware of parallel computing features and start thinking in functional programming terms.\n",
        "# Put more simply, vectorization is the ability for a computer to execute multiple instructions\n",
        "# at once, and with high performance chips, especially graphics cards, you can get dramatic\n",
        "# speedups. Modern graphics cards can run thousands of instructions in parallel."
      ],
      "metadata": {
        "id": "v5ufI_P9sPss"
      },
      "execution_count": 24,
      "outputs": []
    },
    {
      "cell_type": "code",
      "source": [
        "# A Related feature in pandas and nummy is called broadcasting. With broadcasting, you can\n",
        "# apply an operation to every value in the series, changing the series. For instance, if we\n",
        "# wanted to increase every random variable by 2, we could do so quickly using the += operator\n",
        "# directly on the Series object.\n",
        "\n",
        "# Let's look at the head of our series\n",
        "numbers.head()"
      ],
      "metadata": {
        "colab": {
          "base_uri": "https://localhost:8080/"
        },
        "id": "Ak7NVlrPsPvz",
        "outputId": "3276020c-b072-459b-a923-d5185d7a2726"
      },
      "execution_count": 26,
      "outputs": [
        {
          "output_type": "execute_result",
          "data": {
            "text/plain": [
              "0    776\n",
              "1    233\n",
              "2    387\n",
              "3    338\n",
              "4    968\n",
              "dtype: int64"
            ]
          },
          "metadata": {},
          "execution_count": 26
        }
      ]
    },
    {
      "cell_type": "code",
      "source": [
        "# And now lets just increase everything in the series by 2\n",
        "numbers += 2\n",
        "numbers.head()"
      ],
      "metadata": {
        "colab": {
          "base_uri": "https://localhost:8080/"
        },
        "id": "22ixQ78MsPya",
        "outputId": "f60342d4-0813-4c29-a328-370d2c3df545"
      },
      "execution_count": 27,
      "outputs": [
        {
          "output_type": "execute_result",
          "data": {
            "text/plain": [
              "0    778\n",
              "1    235\n",
              "2    389\n",
              "3    340\n",
              "4    970\n",
              "dtype: int64"
            ]
          },
          "metadata": {},
          "execution_count": 27
        }
      ]
    },
    {
      "cell_type": "code",
      "source": [
        "# The procedural way of doing this would be to iterate through all of the items in the\n",
        "# series and increase the values directly. Pandas does support iterating through a series\n",
        "# much like a dictionary, allowing you to unpack values easily.\n",
        "\n",
        "# We can use the iteritems() function which returns a label and value\n",
        "for label, value in numbers.iteritems():\n",
        "    # in the early version of pandas we would use the set_value() function\n",
        "    # in the current version, we use the iat() or at() functions,\n",
        "    numbers.iat[label] = value + 2\n",
        "# And we can check the result of this computation\n",
        "numbers.head()"
      ],
      "metadata": {
        "colab": {
          "base_uri": "https://localhost:8080/"
        },
        "id": "4Z8PWqT5sP1S",
        "outputId": "8d8e65da-c156-4f1b-ac0b-eb3686dba7b0"
      },
      "execution_count": 28,
      "outputs": [
        {
          "output_type": "stream",
          "name": "stderr",
          "text": [
            "<ipython-input-28-b6b9f064101e>:6: FutureWarning: iteritems is deprecated and will be removed in a future version. Use .items instead.\n",
            "  for label, value in numbers.iteritems():\n"
          ]
        },
        {
          "output_type": "execute_result",
          "data": {
            "text/plain": [
              "0    780\n",
              "1    237\n",
              "2    391\n",
              "3    342\n",
              "4    972\n",
              "dtype: int64"
            ]
          },
          "metadata": {},
          "execution_count": 28
        }
      ]
    },
    {
      "cell_type": "code",
      "source": [
        "# So the result is the same, though you may notice a warning depending upon the version of\n",
        "# pandas being used. But if you find yourself iterating pretty much *any time* in pandas,\n",
        "# you should question whether you're doing things in the best possible way."
      ],
      "metadata": {
        "id": "vjO1bqU2sP35"
      },
      "execution_count": 30,
      "outputs": []
    },
    {
      "cell_type": "code",
      "source": [
        "# Lets take a look at some speed comparisons. First, lets try five loops using the iterative approach"
      ],
      "metadata": {
        "id": "mIftNS8Eug9B"
      },
      "execution_count": 31,
      "outputs": []
    },
    {
      "cell_type": "code",
      "source": [
        "%%timeit -n 10\n",
        "# we'll create a blank new series of items to deal with\n",
        "s = pd.Series(np.random.randint(0, 1000, 1000))\n",
        "# And we'll just rewrite our loop from above.\n",
        "for label, value in s.iteritems():\n",
        "  s.loc[label] = value + 2"
      ],
      "metadata": {
        "colab": {
          "base_uri": "https://localhost:8080/"
        },
        "id": "fEOsF4f-uhAX",
        "outputId": "72d78d31-f025-4c7e-d3ab-777762fb5640"
      },
      "execution_count": 34,
      "outputs": [
        {
          "output_type": "stream",
          "name": "stderr",
          "text": [
            "<magic-timeit>:4: FutureWarning: iteritems is deprecated and will be removed in a future version. Use .items instead.\n"
          ]
        },
        {
          "output_type": "stream",
          "name": "stdout",
          "text": [
            "31.7 ms ± 359 µs per loop (mean ± std. dev. of 7 runs, 10 loops each)\n"
          ]
        }
      ]
    },
    {
      "cell_type": "code",
      "source": [
        "# Now lets try that using the broadcasting methods"
      ],
      "metadata": {
        "id": "Xi9Hhjv-uhDP"
      },
      "execution_count": 35,
      "outputs": []
    },
    {
      "cell_type": "code",
      "source": [
        "%%timeit -n 10\n",
        "# We need to recreate a series\n",
        "s = pd.Series(np.random.randint(0, 1000, 1000))\n",
        "# And we just broadcast with +=\n",
        "s+=2"
      ],
      "metadata": {
        "colab": {
          "base_uri": "https://localhost:8080/"
        },
        "id": "qvFPKBgiuhF1",
        "outputId": "46c70119-9f89-46ed-fcc9-9434e416a081"
      },
      "execution_count": 36,
      "outputs": [
        {
          "output_type": "stream",
          "name": "stdout",
          "text": [
            "218 µs ± 95.6 µs per loop (mean ± std. dev. of 7 runs, 10 loops each)\n"
          ]
        }
      ]
    },
    {
      "cell_type": "code",
      "source": [
        "# Amazing. Not only is it significantly faster, but it's more concise and even easier\n",
        "# to read too. The typical mathematical operations you would expect are vectorized, and the\n",
        "# nump documentation outlines what it takes to create vectorized functions of your own."
      ],
      "metadata": {
        "id": "iqjiUfLHuhIe"
      },
      "execution_count": 37,
      "outputs": []
    },
    {
      "cell_type": "code",
      "source": [
        "# One last note on using the indexing operators to access series data. The .loc attribute lets\n",
        "# you not only modify data in place, but also add new data as well. If the value you pass in as\n",
        "# the index doesn't exist, then a new entry is added. And keep in mind, indices can have mixed types.\n",
        "# While it's important to be aware of the typing going on underneath, Pandas will automatically\n",
        "# change the underlying NumPy types as appropriate."
      ],
      "metadata": {
        "id": "hqeOmTEeuhKz"
      },
      "execution_count": 38,
      "outputs": []
    },
    {
      "cell_type": "code",
      "source": [
        "# Here's an example using a Series of a few numbers.\n",
        "s = pd.Series([1, 2, 3])\n",
        "\n",
        "# We could add some new value, maybe a university course\n",
        "s.loc[\"History\"] = 102\n",
        "\n",
        "s"
      ],
      "metadata": {
        "colab": {
          "base_uri": "https://localhost:8080/"
        },
        "id": "HFj4zOBXxOZB",
        "outputId": "d2b405fc-64a7-41e3-8d62-1350948b45d7"
      },
      "execution_count": 39,
      "outputs": [
        {
          "output_type": "execute_result",
          "data": {
            "text/plain": [
              "0            1\n",
              "1            2\n",
              "2            3\n",
              "History    102\n",
              "dtype: int64"
            ]
          },
          "metadata": {},
          "execution_count": 39
        }
      ]
    },
    {
      "cell_type": "code",
      "source": [
        "# We see that mixed types for data values or index labels are no problem for Pandas. Since\n",
        "# \"History\" is not in the original list of indices, s.loc['History'] essentially creates a\n",
        "# new element in the series, with the index named \"History\", and the value of 102"
      ],
      "metadata": {
        "id": "8ZF1h56oxOcH"
      },
      "execution_count": null,
      "outputs": []
    },
    {
      "cell_type": "code",
      "source": [
        "# Up until now I've shown only examples of a series where the index values were unique. I want\n",
        "# to end this lecture by showing an example where index values are not unique, and this makes\n",
        "# pandas Series a little different conceptually then, for instance, a relational database.\n",
        "\n",
        "# Lets create a Series with students and the courses which they have taken\n",
        "students_classes = pd.Series({\n",
        "    \"Alice\": \"Physics\",\n",
        "    \"Jack\": \"chemistry\",\n",
        "    \"Molly\": \"English\",\n",
        "    \"Sam\": \"History\"\n",
        "})\n",
        "\n",
        "students_classes"
      ],
      "metadata": {
        "colab": {
          "base_uri": "https://localhost:8080/"
        },
        "id": "UyY5V9AdxOe-",
        "outputId": "9faad8ad-3f18-4010-8684-da89de5d3045"
      },
      "execution_count": 47,
      "outputs": [
        {
          "output_type": "execute_result",
          "data": {
            "text/plain": [
              "Alice      Physics\n",
              "Jack     chemistry\n",
              "Molly      English\n",
              "Sam        History\n",
              "dtype: object"
            ]
          },
          "metadata": {},
          "execution_count": 47
        }
      ]
    },
    {
      "cell_type": "code",
      "source": [
        "# Now lets create a Series just for some new student Kelly, which lists all of the courses\n",
        "# she has taken. We'll set the index to Kelly, and the data to be the names of courses.\n",
        "kelly_classes = pd.Series([\"Philosophy\", \"Arts\", \"Math\"], index=[\"Kelly\", \"Kelly\", \"Kelly\"])\n",
        "kelly_classes"
      ],
      "metadata": {
        "colab": {
          "base_uri": "https://localhost:8080/"
        },
        "id": "dcGnkQkzxOhl",
        "outputId": "adf97904-91d1-448a-e145-2f815b816604"
      },
      "execution_count": 48,
      "outputs": [
        {
          "output_type": "execute_result",
          "data": {
            "text/plain": [
              "Kelly    Philosophy\n",
              "Kelly          Arts\n",
              "Kelly          Math\n",
              "dtype: object"
            ]
          },
          "metadata": {},
          "execution_count": 48
        }
      ]
    },
    {
      "cell_type": "code",
      "source": [
        "# Finally, we can append all of the data in this new Series to the first using the .append()\n",
        "# function.\n",
        "all_students_classes = students_classes.append(kelly_classes)\n",
        "\n",
        "# This creates a series which has our original people in it as well as all of Kelly's courses\n",
        "all_students_classes"
      ],
      "metadata": {
        "colab": {
          "base_uri": "https://localhost:8080/"
        },
        "id": "mDrQ3Ss3xOkN",
        "outputId": "18855044-c8d7-4903-a00f-84238a5f1500"
      },
      "execution_count": 49,
      "outputs": [
        {
          "output_type": "stream",
          "name": "stderr",
          "text": [
            "<ipython-input-49-2d25a8534a73>:3: FutureWarning: The series.append method is deprecated and will be removed from pandas in a future version. Use pandas.concat instead.\n",
            "  all_students_classes = students_classes.append(kelly_classes)\n"
          ]
        },
        {
          "output_type": "execute_result",
          "data": {
            "text/plain": [
              "Alice       Physics\n",
              "Jack      chemistry\n",
              "Molly       English\n",
              "Sam         History\n",
              "Kelly    Philosophy\n",
              "Kelly          Arts\n",
              "Kelly          Math\n",
              "dtype: object"
            ]
          },
          "metadata": {},
          "execution_count": 49
        }
      ]
    },
    {
      "cell_type": "code",
      "source": [
        "# There are a couple of important considerations when using append. First, Pandas will take\n",
        "# the series and try to infer the best data types to use. In this example, everything is a string,\n",
        "# so there's no problems here. Second, the append method doesn't actually change the underlying Series\n",
        "# objects, it instead returns a new series which is made up of the two appended together. This is\n",
        "# a common pattern in pandas - by default returning a new object instead of modifying in place - and\n",
        "# one you should come to expect. By printing the original series we can see that that series hasn't\n",
        "# changed.\n",
        "\n",
        "students_classes"
      ],
      "metadata": {
        "colab": {
          "base_uri": "https://localhost:8080/"
        },
        "id": "8OjW9TcYxOnD",
        "outputId": "3d724fe7-a89a-481d-85eb-d08f0b0c6a51"
      },
      "execution_count": 50,
      "outputs": [
        {
          "output_type": "execute_result",
          "data": {
            "text/plain": [
              "Alice      Physics\n",
              "Jack     chemistry\n",
              "Molly      English\n",
              "Sam        History\n",
              "dtype: object"
            ]
          },
          "metadata": {},
          "execution_count": 50
        }
      ]
    },
    {
      "cell_type": "code",
      "source": [
        "# Finally, we see that when we query the appended series for Kelly, we don't get a single value,\n",
        "# but a series itself.\n",
        "all_students_classes.loc[\"Kelly\"]"
      ],
      "metadata": {
        "colab": {
          "base_uri": "https://localhost:8080/"
        },
        "id": "QAwzjD05xOps",
        "outputId": "4167b4c9-9a26-4eea-b5a3-3acb52881bc7"
      },
      "execution_count": 52,
      "outputs": [
        {
          "output_type": "execute_result",
          "data": {
            "text/plain": [
              "Kelly    Philosophy\n",
              "Kelly          Arts\n",
              "Kelly          Math\n",
              "dtype: object"
            ]
          },
          "metadata": {},
          "execution_count": 52
        }
      ]
    },
    {
      "cell_type": "markdown",
      "source": [
        "In this lecture, we focused on one of the primary data types of the Pandas library, the Series. You learned how to query the Series, with .loc and .iloc, that the Series is an indexed data structure, how to merge two Series objects together with append(), and the importance of vectorization.\n",
        "\n",
        "There are many more methods associated with the Series object that we haven't talked about. But with these basics down, we'll move on to talking about the Panda's two-dimensional data structure, the DataFrame. The DataFrame is very similar to the series object, but includes multiple columns of data, and is the structure that you'll spend the majority of your time working with when cleaning and aggregating data."
      ],
      "metadata": {
        "id": "oiAyBr1B1zNU"
      }
    },
    {
      "cell_type": "code",
      "source": [],
      "metadata": {
        "id": "6QLUFNxvxOsP"
      },
      "execution_count": null,
      "outputs": []
    }
  ]
}